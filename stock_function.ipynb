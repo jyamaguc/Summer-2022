{
 "cells": [
  {
   "cell_type": "code",
   "execution_count": 1,
   "id": "9ef546d4",
   "metadata": {},
   "outputs": [],
   "source": [
    "import math\n",
    "import pandas as pd\n",
    "import numpy as np\n",
    "import matplotlib.pyplot as plt\n",
    "from sklearn.preprocessing import MinMaxScaler\n",
    "from keras.models import Sequential\n",
    "from keras.layers import Dense, LSTM\n",
    "import pandas_datareader as web\n",
    "from datetime import date\n",
    "from datetime import datetime, timedelta, date\n"
   ]
  },
  {
   "cell_type": "code",
   "execution_count": 2,
   "id": "9ddf060e",
   "metadata": {},
   "outputs": [],
   "source": [
    "def predict_stock(ticker):\n",
    "    year_ago = str(date.today()-timedelta(days=365))\n",
    "    today = str(date.today())\n",
    "    ticker = ticker\n",
    "    source = 'yahoo'\n",
    "    df = web.DataReader(ticker, data_source = source, start = year_ago, end = today)\n",
    "    X = pd.DataFrame(df.drop(columns = ['Close']))\n",
    "    y = pd.DataFrame(df['Close'])\n",
    "    X = X.values\n",
    "    y = y.values\n",
    "    training_data_len = math.ceil(X.shape[0]*.99)\n",
    "    scaler = MinMaxScaler(feature_range = (0,1))\n",
    "    scaled_data = scaler.fit_transform(X)\n",
    "    scaled_y = scaler.fit_transform(y)\n",
    "    X = scaled_data[0:training_data_len, :]\n",
    "    Y = scaled_y[0:training_data_len, :]\n",
    "    X_train = []\n",
    "    y_train = []\n",
    "    for i in range(30, len(X)):\n",
    "        X_train.append(X[i-30:i, :].ravel())\n",
    "        y_train.append(Y[i, :])\n",
    "    X_train, y_train = np.array(X_train), np.array(y_train)\n",
    "    X_train = np.reshape(X_train, (X_train.shape[0],X_train.shape[1], 1))\n",
    "    #build LSTM model\n",
    "    model = Sequential()\n",
    "    model.add(LSTM(50, return_sequences = True, input_shape = (X_train.shape[1],1)))\n",
    "    model.add(LSTM(50, return_sequences = False ))\n",
    "    model.add(Dense(25))\n",
    "    model.add(Dense(1))\n",
    "    model.compile(optimizer = 'adam', loss = 'mean_squared_error')\n",
    "    model.fit(X_train, y_train, batch_size = 1, epochs = 1)\n",
    "    test_data = scaled_data[training_data_len-30: , :]\n",
    "    #create x_test, y_test\n",
    "    X_test =[]\n",
    "    y_test = y[training_data_len:,]\n",
    "    for i in range(30, len(test_data)):\n",
    "        X_test.append(test_data[i-30:i,:].ravel())\n",
    "    X_test = np.array(X_test)\n",
    "    X_test = np.reshape(X_test, (X_test.shape[0], X_test.shape[1],1))\n",
    "    predictions = model.predict(X_test)\n",
    "    predictions = scaler.inverse_transform(predictions)\n",
    "    rmse = np.sqrt(np.mean(predictions-y_test)**2)\n",
    "    data = df.filter(['Close'])\n",
    "    train= data[0:training_data_len]\n",
    "    valid = data[training_data_len :]\n",
    "    valid['Predictions'] = predictions\n",
    "    close = df['Close'].values\n",
    "    X_val = X[-30:,:].ravel()\n",
    "    X_v = []\n",
    "    X_v.append(X_val)\n",
    "    X_v = np.array(X_v)\n",
    "    X_v = np.reshape(X_v ,(X_v.shape[0],X_v.shape[1],1))\n",
    "    tomorrow = model.predict(X_v)\n",
    "    tomorrow = round(float(scaler.inverse_transform(tomorrow)),2)\n",
    "    percent_from_close = round(float((tomorrow - close[-1:])/close[-1:])*100,2)\n",
    "    percent_from_predict = round(float((tomorrow - valid['Predictions'].values[1])/valid['Predictions'].values[1])*100,2)\n",
    "    return tomorrow, percent_from_close, percent_from_predict"
   ]
  },
  {
   "cell_type": "code",
   "execution_count": 3,
   "id": "7f59ba79",
   "metadata": {},
   "outputs": [
    {
     "name": "stdout",
     "output_type": "stream",
     "text": [
      "221/221 [==============================] - 15s 54ms/step - loss: 0.0184\n",
      "1/1 [==============================] - 1s 854ms/step\n",
      "1/1 [==============================] - 0s 31ms/step\n",
      "AAPL: [140.97, 1.47, 0.69]\n"
     ]
    },
    {
     "name": "stderr",
     "output_type": "stream",
     "text": [
      "C:\\Users\\jyama\\AppData\\Local\\Temp/ipykernel_6692/1392444293.py:46: SettingWithCopyWarning: \n",
      "A value is trying to be set on a copy of a slice from a DataFrame.\n",
      "Try using .loc[row_indexer,col_indexer] = value instead\n",
      "\n",
      "See the caveats in the documentation: https://pandas.pydata.org/pandas-docs/stable/user_guide/indexing.html#returning-a-view-versus-a-copy\n",
      "  valid['Predictions'] = predictions\n"
     ]
    },
    {
     "name": "stdout",
     "output_type": "stream",
     "text": [
      "221/221 [==============================] - 15s 54ms/step - loss: 0.0199\n",
      "1/1 [==============================] - 1s 809ms/step\n",
      "1/1 [==============================] - 0s 33ms/step\n",
      "GOOG: [2278.67, 4.45, 1.86]\n"
     ]
    },
    {
     "name": "stderr",
     "output_type": "stream",
     "text": [
      "C:\\Users\\jyama\\AppData\\Local\\Temp/ipykernel_6692/1392444293.py:46: SettingWithCopyWarning: \n",
      "A value is trying to be set on a copy of a slice from a DataFrame.\n",
      "Try using .loc[row_indexer,col_indexer] = value instead\n",
      "\n",
      "See the caveats in the documentation: https://pandas.pydata.org/pandas-docs/stable/user_guide/indexing.html#returning-a-view-versus-a-copy\n",
      "  valid['Predictions'] = predictions\n"
     ]
    },
    {
     "name": "stdout",
     "output_type": "stream",
     "text": [
      "221/221 [==============================] - 14s 53ms/step - loss: 0.0152\n",
      "1/1 [==============================] - 1s 811ms/step\n",
      "1/1 [==============================] - 0s 31ms/step\n",
      "TSLA: [762.45, 11.83, 2.07]\n"
     ]
    },
    {
     "name": "stderr",
     "output_type": "stream",
     "text": [
      "C:\\Users\\jyama\\AppData\\Local\\Temp/ipykernel_6692/1392444293.py:46: SettingWithCopyWarning: \n",
      "A value is trying to be set on a copy of a slice from a DataFrame.\n",
      "Try using .loc[row_indexer,col_indexer] = value instead\n",
      "\n",
      "See the caveats in the documentation: https://pandas.pydata.org/pandas-docs/stable/user_guide/indexing.html#returning-a-view-versus-a-copy\n",
      "  valid['Predictions'] = predictions\n"
     ]
    },
    {
     "name": "stdout",
     "output_type": "stream",
     "text": [
      "221/221 [==============================] - 15s 54ms/step - loss: 0.0128\n",
      "1/1 [==============================] - 1s 1s/step\n",
      "1/1 [==============================] - 0s 31ms/step\n",
      "AMZN: [105.98, -3.27, 1.58]\n"
     ]
    },
    {
     "name": "stderr",
     "output_type": "stream",
     "text": [
      "C:\\Users\\jyama\\AppData\\Local\\Temp/ipykernel_6692/1392444293.py:46: SettingWithCopyWarning: \n",
      "A value is trying to be set on a copy of a slice from a DataFrame.\n",
      "Try using .loc[row_indexer,col_indexer] = value instead\n",
      "\n",
      "See the caveats in the documentation: https://pandas.pydata.org/pandas-docs/stable/user_guide/indexing.html#returning-a-view-versus-a-copy\n",
      "  valid['Predictions'] = predictions\n"
     ]
    },
    {
     "name": "stdout",
     "output_type": "stream",
     "text": [
      "221/221 [==============================] - 15s 54ms/step - loss: 0.0076\n",
      "WARNING:tensorflow:5 out of the last 9 calls to <function Model.make_predict_function.<locals>.predict_function at 0x0000016F6C730F70> triggered tf.function retracing. Tracing is expensive and the excessive number of tracings could be due to (1) creating @tf.function repeatedly in a loop, (2) passing tensors with different shapes, (3) passing Python objects instead of tensors. For (1), please define your @tf.function outside of the loop. For (2), @tf.function has reduce_retracing=True option that can avoid unnecessary retracing. For (3), please refer to https://www.tensorflow.org/guide/function#controlling_retracing and https://www.tensorflow.org/api_docs/python/tf/function for  more details.\n",
      "1/1 [==============================] - 1s 807ms/step\n",
      "1/1 [==============================] - 0s 33ms/step\n",
      "PXD: [229.5, 2.48, 1.97]\n"
     ]
    },
    {
     "name": "stderr",
     "output_type": "stream",
     "text": [
      "C:\\Users\\jyama\\AppData\\Local\\Temp/ipykernel_6692/1392444293.py:46: SettingWithCopyWarning: \n",
      "A value is trying to be set on a copy of a slice from a DataFrame.\n",
      "Try using .loc[row_indexer,col_indexer] = value instead\n",
      "\n",
      "See the caveats in the documentation: https://pandas.pydata.org/pandas-docs/stable/user_guide/indexing.html#returning-a-view-versus-a-copy\n",
      "  valid['Predictions'] = predictions\n"
     ]
    },
    {
     "name": "stdout",
     "output_type": "stream",
     "text": [
      "221/221 [==============================] - 15s 54ms/step - loss: 0.0150\n",
      "WARNING:tensorflow:6 out of the last 11 calls to <function Model.make_predict_function.<locals>.predict_function at 0x0000016F78D32DC0> triggered tf.function retracing. Tracing is expensive and the excessive number of tracings could be due to (1) creating @tf.function repeatedly in a loop, (2) passing tensors with different shapes, (3) passing Python objects instead of tensors. For (1), please define your @tf.function outside of the loop. For (2), @tf.function has reduce_retracing=True option that can avoid unnecessary retracing. For (3), please refer to https://www.tensorflow.org/guide/function#controlling_retracing and https://www.tensorflow.org/api_docs/python/tf/function for  more details.\n",
      "1/1 [==============================] - 1s 821ms/step\n",
      "1/1 [==============================] - 0s 30ms/step\n",
      "JD: [65.77, -0.27, 1.45]\n"
     ]
    },
    {
     "name": "stderr",
     "output_type": "stream",
     "text": [
      "C:\\Users\\jyama\\AppData\\Local\\Temp/ipykernel_6692/1392444293.py:46: SettingWithCopyWarning: \n",
      "A value is trying to be set on a copy of a slice from a DataFrame.\n",
      "Try using .loc[row_indexer,col_indexer] = value instead\n",
      "\n",
      "See the caveats in the documentation: https://pandas.pydata.org/pandas-docs/stable/user_guide/indexing.html#returning-a-view-versus-a-copy\n",
      "  valid['Predictions'] = predictions\n"
     ]
    },
    {
     "name": "stdout",
     "output_type": "stream",
     "text": [
      "221/221 [==============================] - 15s 55ms/step - loss: 0.0132\n",
      "1/1 [==============================] - 1s 801ms/step\n",
      "1/1 [==============================] - 0s 34ms/step\n",
      "UNH: [501.61, -3.05, -0.05]\n"
     ]
    },
    {
     "name": "stderr",
     "output_type": "stream",
     "text": [
      "C:\\Users\\jyama\\AppData\\Local\\Temp/ipykernel_6692/1392444293.py:46: SettingWithCopyWarning: \n",
      "A value is trying to be set on a copy of a slice from a DataFrame.\n",
      "Try using .loc[row_indexer,col_indexer] = value instead\n",
      "\n",
      "See the caveats in the documentation: https://pandas.pydata.org/pandas-docs/stable/user_guide/indexing.html#returning-a-view-versus-a-copy\n",
      "  valid['Predictions'] = predictions\n"
     ]
    }
   ],
   "source": [
    "my_stock_list = ['AAPL','GOOG','TSLA','AMZN','PXD','JD','UNH']\n",
    "for item in my_stock_list:\n",
    "    l = str(list(predict_stock(item)))\n",
    "    print(item + ': ' +l)"
   ]
  }
 ],
 "metadata": {
  "kernelspec": {
   "display_name": "Python 3 (ipykernel)",
   "language": "python",
   "name": "python3"
  },
  "language_info": {
   "codemirror_mode": {
    "name": "ipython",
    "version": 3
   },
   "file_extension": ".py",
   "mimetype": "text/x-python",
   "name": "python",
   "nbconvert_exporter": "python",
   "pygments_lexer": "ipython3",
   "version": "3.9.7"
  }
 },
 "nbformat": 4,
 "nbformat_minor": 5
}
