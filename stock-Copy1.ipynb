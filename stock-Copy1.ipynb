{
 "cells": [
  {
   "cell_type": "markdown",
   "id": "53022f7d",
   "metadata": {},
   "source": [
    "Followed https://www.youtube.com/watch?v=QIUxPv5PJOY&t=215s"
   ]
  },
  {
   "cell_type": "code",
   "execution_count": 1,
   "id": "6177336d",
   "metadata": {},
   "outputs": [
    {
     "name": "stdout",
     "output_type": "stream",
     "text": [
      "Requirement already satisfied: tensorflow in c:\\users\\jyama\\anaconda3\\lib\\site-packages (2.9.1)Note: you may need to restart the kernel to use updated packages.\n",
      "Requirement already satisfied: grpcio<2.0,>=1.24.3 in c:\\users\\jyama\\anaconda3\\lib\\site-packages (from tensorflow) (1.47.0)\n",
      "Requirement already satisfied: opt-einsum>=2.3.2 in c:\\users\\jyama\\anaconda3\\lib\\site-packages (from tensorflow) (3.3.0)\n",
      "Requirement already satisfied: libclang>=13.0.0 in c:\\users\\jyama\\anaconda3\\lib\\site-packages (from tensorflow) (14.0.1)\n",
      "Requirement already satisfied: keras<2.10.0,>=2.9.0rc0 in c:\\users\\jyama\\anaconda3\\lib\\site-packages (from tensorflow) (2.9.0)\n",
      "Requirement already satisfied: numpy>=1.20 in c:\\users\\jyama\\anaconda3\\lib\\site-packages (from tensorflow) (1.20.3)\n",
      "Requirement already satisfied: h5py>=2.9.0 in c:\\users\\jyama\\anaconda3\\lib\\site-packages (from tensorflow) (3.2.1)\n",
      "Requirement already satisfied: wrapt>=1.11.0 in c:\\users\\jyama\\anaconda3\\lib\\site-packages (from tensorflow) (1.12.1)\n",
      "Requirement already satisfied: tensorflow-io-gcs-filesystem>=0.23.1 in c:\\users\\jyama\\anaconda3\\lib\\site-packages (from tensorflow) (0.26.0)\n",
      "Requirement already satisfied: six>=1.12.0 in c:\\users\\jyama\\anaconda3\\lib\\site-packages (from tensorflow) (1.16.0)\n",
      "Requirement already satisfied: keras-preprocessing>=1.1.1 in c:\\users\\jyama\\anaconda3\\lib\\site-packages (from tensorflow) (1.1.2)\n",
      "Requirement already satisfied: astunparse>=1.6.0 in c:\\users\\jyama\\anaconda3\\lib\\site-packages (from tensorflow) (1.6.3)\n",
      "Requirement already satisfied: protobuf<3.20,>=3.9.2 in c:\\users\\jyama\\anaconda3\\lib\\site-packages (from tensorflow) (3.19.4)\n",
      "Requirement already satisfied: absl-py>=1.0.0 in c:\\users\\jyama\\anaconda3\\lib\\site-packages (from tensorflow) (1.1.0)\n",
      "Requirement already satisfied: setuptools in c:\\users\\jyama\\anaconda3\\lib\\site-packages (from tensorflow) (58.0.4)\n",
      "Requirement already satisfied: typing-extensions>=3.6.6 in c:\\users\\jyama\\anaconda3\\lib\\site-packages (from tensorflow) (3.10.0.2)\n",
      "Requirement already satisfied: tensorboard<2.10,>=2.9 in c:\\users\\jyama\\anaconda3\\lib\\site-packages (from tensorflow) (2.9.1)\n",
      "Requirement already satisfied: flatbuffers<2,>=1.12 in c:\\users\\jyama\\anaconda3\\lib\\site-packages (from tensorflow) (1.12)\n",
      "Requirement already satisfied: packaging in c:\\users\\jyama\\anaconda3\\lib\\site-packages (from tensorflow) (21.0)\n",
      "Requirement already satisfied: google-pasta>=0.1.1 in c:\\users\\jyama\\anaconda3\\lib\\site-packages (from tensorflow) (0.2.0)\n",
      "Requirement already satisfied: tensorflow-estimator<2.10.0,>=2.9.0rc0 in c:\\users\\jyama\\anaconda3\\lib\\site-packages (from tensorflow) (2.9.0)\n",
      "Requirement already satisfied: gast<=0.4.0,>=0.2.1 in c:\\users\\jyama\\anaconda3\\lib\\site-packages (from tensorflow) (0.4.0)\n",
      "Requirement already satisfied: termcolor>=1.1.0 in c:\\users\\jyama\\anaconda3\\lib\\site-packages (from tensorflow) (1.1.0)\n",
      "Requirement already satisfied: wheel<1.0,>=0.23.0 in c:\\users\\jyama\\anaconda3\\lib\\site-packages (from astunparse>=1.6.0->tensorflow) (0.37.0)\n",
      "Requirement already satisfied: google-auth-oauthlib<0.5,>=0.4.1 in c:\\users\\jyama\\anaconda3\\lib\\site-packages (from tensorboard<2.10,>=2.9->tensorflow) (0.4.6)\n",
      "Requirement already satisfied: markdown>=2.6.8 in c:\\users\\jyama\\anaconda3\\lib\\site-packages (from tensorboard<2.10,>=2.9->tensorflow) (3.3.7)\n",
      "Requirement already satisfied: google-auth<3,>=1.6.3 in c:\\users\\jyama\\anaconda3\\lib\\site-packages (from tensorboard<2.10,>=2.9->tensorflow) (2.8.0)\n",
      "Requirement already satisfied: tensorboard-plugin-wit>=1.6.0 in c:\\users\\jyama\\anaconda3\\lib\\site-packages (from tensorboard<2.10,>=2.9->tensorflow) (1.8.1)\n",
      "Requirement already satisfied: requests<3,>=2.21.0 in c:\\users\\jyama\\anaconda3\\lib\\site-packages (from tensorboard<2.10,>=2.9->tensorflow) (2.26.0)\n",
      "Requirement already satisfied: werkzeug>=1.0.1 in c:\\users\\jyama\\anaconda3\\lib\\site-packages (from tensorboard<2.10,>=2.9->tensorflow) (2.0.2)\n",
      "Requirement already satisfied: tensorboard-data-server<0.7.0,>=0.6.0 in c:\\users\\jyama\\anaconda3\\lib\\site-packages (from tensorboard<2.10,>=2.9->tensorflow) (0.6.1)\n",
      "Requirement already satisfied: cachetools<6.0,>=2.0.0 in c:\\users\\jyama\\anaconda3\\lib\\site-packages (from google-auth<3,>=1.6.3->tensorboard<2.10,>=2.9->tensorflow) (5.2.0)\n",
      "Requirement already satisfied: rsa<5,>=3.1.4 in c:\\users\\jyama\\anaconda3\\lib\\site-packages (from google-auth<3,>=1.6.3->tensorboard<2.10,>=2.9->tensorflow) (4.8)\n",
      "Requirement already satisfied: pyasn1-modules>=0.2.1 in c:\\users\\jyama\\anaconda3\\lib\\site-packages (from google-auth<3,>=1.6.3->tensorboard<2.10,>=2.9->tensorflow) (0.2.8)\n",
      "Requirement already satisfied: requests-oauthlib>=0.7.0 in c:\\users\\jyama\\anaconda3\\lib\\site-packages (from google-auth-oauthlib<0.5,>=0.4.1->tensorboard<2.10,>=2.9->tensorflow) (1.3.1)\n",
      "Requirement already satisfied: importlib-metadata>=4.4 in c:\\users\\jyama\\anaconda3\\lib\\site-packages (from markdown>=2.6.8->tensorboard<2.10,>=2.9->tensorflow) (4.8.1)\n",
      "Requirement already satisfied: zipp>=0.5 in c:\\users\\jyama\\anaconda3\\lib\\site-packages (from importlib-metadata>=4.4->markdown>=2.6.8->tensorboard<2.10,>=2.9->tensorflow) (3.6.0)\n",
      "Requirement already satisfied: pyasn1<0.5.0,>=0.4.6 in c:\\users\\jyama\\anaconda3\\lib\\site-packages (from pyasn1-modules>=0.2.1->google-auth<3,>=1.6.3->tensorboard<2.10,>=2.9->tensorflow) (0.4.8)\n",
      "Requirement already satisfied: idna<4,>=2.5 in c:\\users\\jyama\\anaconda3\\lib\\site-packages (from requests<3,>=2.21.0->tensorboard<2.10,>=2.9->tensorflow) (3.2)\n",
      "Requirement already satisfied: charset-normalizer~=2.0.0 in c:\\users\\jyama\\anaconda3\\lib\\site-packages (from requests<3,>=2.21.0->tensorboard<2.10,>=2.9->tensorflow) (2.0.4)\n",
      "Requirement already satisfied: certifi>=2017.4.17 in c:\\users\\jyama\\anaconda3\\lib\\site-packages (from requests<3,>=2.21.0->tensorboard<2.10,>=2.9->tensorflow) (2021.10.8)\n",
      "Requirement already satisfied: urllib3<1.27,>=1.21.1 in c:\\users\\jyama\\anaconda3\\lib\\site-packages (from requests<3,>=2.21.0->tensorboard<2.10,>=2.9->tensorflow) (1.26.7)\n",
      "Requirement already satisfied: oauthlib>=3.0.0 in c:\\users\\jyama\\anaconda3\\lib\\site-packages (from requests-oauthlib>=0.7.0->google-auth-oauthlib<0.5,>=0.4.1->tensorboard<2.10,>=2.9->tensorflow) (3.2.0)\n",
      "Requirement already satisfied: pyparsing>=2.0.2 in c:\\users\\jyama\\anaconda3\\lib\\site-packages (from packaging->tensorflow) (3.0.4)\n",
      "\n"
     ]
    }
   ],
   "source": [
    "pip install tensorflow\n"
   ]
  },
  {
   "cell_type": "code",
   "execution_count": null,
   "id": "3b20db77",
   "metadata": {},
   "outputs": [],
   "source": []
  },
  {
   "cell_type": "code",
   "execution_count": 2,
   "id": "9efc746c",
   "metadata": {},
   "outputs": [],
   "source": [
    "import pandas as pd\n",
    "import numpy as np\n",
    "import matplotlib.pyplot as plt\n",
    "from sklearn.preprocessing import MinMaxScaler\n",
    "from keras.models import Sequential\n",
    "from keras.layers import Dense, LSTM\n",
    "import pandas_datareader as web\n",
    "from datetime import date\n",
    "from datetime import datetime, timedelta, date"
   ]
  },
  {
   "cell_type": "code",
   "execution_count": 3,
   "id": "f15a0ae9",
   "metadata": {},
   "outputs": [],
   "source": [
    "my_stock_list = ['AAPL','GOOG','TSLA','AMZN','PXD','JD','UNH']"
   ]
  },
  {
   "cell_type": "code",
   "execution_count": 4,
   "id": "d51312c5",
   "metadata": {},
   "outputs": [
    {
     "data": {
      "text/html": [
       "<div>\n",
       "<style scoped>\n",
       "    .dataframe tbody tr th:only-of-type {\n",
       "        vertical-align: middle;\n",
       "    }\n",
       "\n",
       "    .dataframe tbody tr th {\n",
       "        vertical-align: top;\n",
       "    }\n",
       "\n",
       "    .dataframe thead th {\n",
       "        text-align: right;\n",
       "    }\n",
       "</style>\n",
       "<table border=\"1\" class=\"dataframe\">\n",
       "  <thead>\n",
       "    <tr style=\"text-align: right;\">\n",
       "      <th></th>\n",
       "      <th>High</th>\n",
       "      <th>Low</th>\n",
       "      <th>Open</th>\n",
       "      <th>Close</th>\n",
       "      <th>Volume</th>\n",
       "      <th>Adj Close</th>\n",
       "    </tr>\n",
       "    <tr>\n",
       "      <th>Date</th>\n",
       "      <th></th>\n",
       "      <th></th>\n",
       "      <th></th>\n",
       "      <th></th>\n",
       "      <th></th>\n",
       "      <th></th>\n",
       "    </tr>\n",
       "  </thead>\n",
       "  <tbody>\n",
       "    <tr>\n",
       "      <th>2021-06-30</th>\n",
       "      <td>2516.000000</td>\n",
       "      <td>2495.149902</td>\n",
       "      <td>2513.071045</td>\n",
       "      <td>2506.320068</td>\n",
       "      <td>1200300</td>\n",
       "      <td>2506.320068</td>\n",
       "    </tr>\n",
       "    <tr>\n",
       "      <th>2021-07-01</th>\n",
       "      <td>2529.250000</td>\n",
       "      <td>2496.995117</td>\n",
       "      <td>2496.995117</td>\n",
       "      <td>2527.370117</td>\n",
       "      <td>856000</td>\n",
       "      <td>2527.370117</td>\n",
       "    </tr>\n",
       "    <tr>\n",
       "      <th>2021-07-02</th>\n",
       "      <td>2576.959961</td>\n",
       "      <td>2535.379883</td>\n",
       "      <td>2536.790039</td>\n",
       "      <td>2574.379883</td>\n",
       "      <td>1058000</td>\n",
       "      <td>2574.379883</td>\n",
       "    </tr>\n",
       "    <tr>\n",
       "      <th>2021-07-06</th>\n",
       "      <td>2597.689941</td>\n",
       "      <td>2568.179932</td>\n",
       "      <td>2588.989990</td>\n",
       "      <td>2595.419922</td>\n",
       "      <td>1067500</td>\n",
       "      <td>2595.419922</td>\n",
       "    </tr>\n",
       "    <tr>\n",
       "      <th>2021-07-07</th>\n",
       "      <td>2612.798096</td>\n",
       "      <td>2595.199951</td>\n",
       "      <td>2606.820068</td>\n",
       "      <td>2601.550049</td>\n",
       "      <td>834000</td>\n",
       "      <td>2601.550049</td>\n",
       "    </tr>\n",
       "    <tr>\n",
       "      <th>...</th>\n",
       "      <td>...</td>\n",
       "      <td>...</td>\n",
       "      <td>...</td>\n",
       "      <td>...</td>\n",
       "      <td>...</td>\n",
       "      <td>...</td>\n",
       "    </tr>\n",
       "    <tr>\n",
       "      <th>2022-06-24</th>\n",
       "      <td>2372.750000</td>\n",
       "      <td>2272.060059</td>\n",
       "      <td>2272.060059</td>\n",
       "      <td>2370.760010</td>\n",
       "      <td>1954700</td>\n",
       "      <td>2370.760010</td>\n",
       "    </tr>\n",
       "    <tr>\n",
       "      <th>2022-06-27</th>\n",
       "      <td>2385.000000</td>\n",
       "      <td>2320.014893</td>\n",
       "      <td>2378.699951</td>\n",
       "      <td>2332.449951</td>\n",
       "      <td>1642000</td>\n",
       "      <td>2332.449951</td>\n",
       "    </tr>\n",
       "    <tr>\n",
       "      <th>2022-06-28</th>\n",
       "      <td>2357.129883</td>\n",
       "      <td>2248.879883</td>\n",
       "      <td>2327.020020</td>\n",
       "      <td>2251.429932</td>\n",
       "      <td>1411600</td>\n",
       "      <td>2251.429932</td>\n",
       "    </tr>\n",
       "    <tr>\n",
       "      <th>2022-06-29</th>\n",
       "      <td>2273.290039</td>\n",
       "      <td>2231.080078</td>\n",
       "      <td>2242.969971</td>\n",
       "      <td>2245.129883</td>\n",
       "      <td>931400</td>\n",
       "      <td>2245.129883</td>\n",
       "    </tr>\n",
       "    <tr>\n",
       "      <th>2022-06-30</th>\n",
       "      <td>2225.000000</td>\n",
       "      <td>2146.199951</td>\n",
       "      <td>2209.989990</td>\n",
       "      <td>2187.449951</td>\n",
       "      <td>1896307</td>\n",
       "      <td>2187.449951</td>\n",
       "    </tr>\n",
       "  </tbody>\n",
       "</table>\n",
       "<p>253 rows × 6 columns</p>\n",
       "</div>"
      ],
      "text/plain": [
       "                   High          Low         Open        Close   Volume  \\\n",
       "Date                                                                      \n",
       "2021-06-30  2516.000000  2495.149902  2513.071045  2506.320068  1200300   \n",
       "2021-07-01  2529.250000  2496.995117  2496.995117  2527.370117   856000   \n",
       "2021-07-02  2576.959961  2535.379883  2536.790039  2574.379883  1058000   \n",
       "2021-07-06  2597.689941  2568.179932  2588.989990  2595.419922  1067500   \n",
       "2021-07-07  2612.798096  2595.199951  2606.820068  2601.550049   834000   \n",
       "...                 ...          ...          ...          ...      ...   \n",
       "2022-06-24  2372.750000  2272.060059  2272.060059  2370.760010  1954700   \n",
       "2022-06-27  2385.000000  2320.014893  2378.699951  2332.449951  1642000   \n",
       "2022-06-28  2357.129883  2248.879883  2327.020020  2251.429932  1411600   \n",
       "2022-06-29  2273.290039  2231.080078  2242.969971  2245.129883   931400   \n",
       "2022-06-30  2225.000000  2146.199951  2209.989990  2187.449951  1896307   \n",
       "\n",
       "              Adj Close  \n",
       "Date                     \n",
       "2021-06-30  2506.320068  \n",
       "2021-07-01  2527.370117  \n",
       "2021-07-02  2574.379883  \n",
       "2021-07-06  2595.419922  \n",
       "2021-07-07  2601.550049  \n",
       "...                 ...  \n",
       "2022-06-24  2370.760010  \n",
       "2022-06-27  2332.449951  \n",
       "2022-06-28  2251.429932  \n",
       "2022-06-29  2245.129883  \n",
       "2022-06-30  2187.449951  \n",
       "\n",
       "[253 rows x 6 columns]"
      ]
     },
     "execution_count": 4,
     "metadata": {},
     "output_type": "execute_result"
    }
   ],
   "source": [
    "#get stock quote\n",
    "year_ago = str(date.today()-timedelta(days=365))\n",
    "today = str(date.today())\n",
    "ticker = 'GOOG'\n",
    "source = 'yahoo'\n",
    "df = web.DataReader(ticker, data_source = source, start = year_ago, end = today)\n",
    "df"
   ]
  },
  {
   "cell_type": "code",
   "execution_count": 5,
   "id": "825cb4d3",
   "metadata": {},
   "outputs": [
    {
     "data": {
      "text/plain": [
       "array([2506.32006836, 2527.37011719, 2574.37988281, 2595.41992188,\n",
       "       2601.55004883, 2583.54003906, 2591.48999023, 2611.2800293 ,\n",
       "       2619.88989258, 2641.64990234, 2625.33007812, 2636.90991211,\n",
       "       2585.08007812, 2622.0300293 , 2652.01000977, 2666.57006836,\n",
       "       2756.32006836, 2792.88989258, 2735.92993164, 2727.62988281,\n",
       "       2730.81005859, 2704.41992188, 2719.79003906, 2725.60009766,\n",
       "       2720.57006836, 2738.80004883, 2740.7199707 , 2760.04003906,\n",
       "       2761.92993164, 2753.79003906, 2767.79003906, 2768.12011719,\n",
       "       2778.32006836, 2746.01000977, 2731.39990234, 2738.27001953,\n",
       "       2768.73999023, 2821.98999023, 2847.9699707 , 2859.        ,\n",
       "       2842.45996094, 2891.01000977, 2909.38989258, 2909.23999023,\n",
       "       2916.84008789, 2884.37988281, 2895.5       , 2910.37988281,\n",
       "       2897.66992188, 2898.27001953, 2838.41992188, 2869.30004883,\n",
       "       2868.12011719, 2904.12011719, 2887.4699707 , 2829.27001953,\n",
       "       2780.34008789, 2792.92993164, 2818.77001953, 2836.5300293 ,\n",
       "       2852.65991211, 2830.02001953, 2723.67993164, 2690.41992188,\n",
       "       2665.31005859, 2729.25      , 2675.30004883, 2723.54003906,\n",
       "       2747.08007812, 2783.70996094, 2801.12011719, 2776.94995117,\n",
       "       2734.26000977, 2758.        , 2828.23999023, 2833.5       ,\n",
       "       2859.20996094, 2876.43994141, 2848.30004883, 2855.61010742,\n",
       "       2772.5       , 2775.45996094, 2793.43994141, 2928.55004883,\n",
       "       2922.58007812, 2965.40991211, 2875.47998047, 2917.26000977,\n",
       "       2935.80004883, 2973.65991211, 2984.82006836, 2987.0300293 ,\n",
       "       2984.9699707 , 2932.52001953, 2934.95996094, 2992.90991211,\n",
       "       2987.76000977, 2981.52001953, 2981.23999023, 3014.17993164,\n",
       "       2999.05004883, 2941.57006836, 2935.13989258, 2934.35009766,\n",
       "       2856.12011719, 2922.2800293 , 2849.04003906, 2832.36010742,\n",
       "       2875.5300293 , 2850.40991211, 2875.92993164, 2960.72998047,\n",
       "       2974.40991211, 2962.12011719, 2973.5       , 2934.09008789,\n",
       "       2899.40991211, 2947.37011719, 2896.77001953, 2856.06005859,\n",
       "       2848.0300293 , 2884.40991211, 2938.97998047, 2942.85009766,\n",
       "       2961.2800293 , 2928.95996094, 2930.09008789, 2920.05004883,\n",
       "       2893.59008789, 2901.48999023, 2888.33007812, 2753.07006836,\n",
       "       2751.02001953, 2740.09008789, 2771.47998047, 2800.35009766,\n",
       "       2832.95996094, 2782.62011719, 2795.72998047, 2725.81005859,\n",
       "       2713.04003906, 2670.12988281, 2601.84008789, 2607.43994141,\n",
       "       2534.70996094, 2584.80004883, 2582.41992188, 2665.79003906,\n",
       "       2713.9699707 , 2757.57006836, 2960.72998047, 2853.01000977,\n",
       "       2860.32006836, 2778.76000977, 2784.26000977, 2829.06005859,\n",
       "       2772.05004883, 2682.60009766, 2706.        , 2728.51000977,\n",
       "       2749.75      , 2646.16992188, 2609.35009766, 2588.05004883,\n",
       "       2551.69995117, 2653.4699707 , 2690.38989258, 2697.82006836,\n",
       "       2683.36010742, 2695.0300293 , 2686.15991211, 2642.43994141,\n",
       "       2529.29003906, 2545.57006836, 2677.32006836, 2653.63989258,\n",
       "       2609.51000977, 2534.82006836, 2593.20996094, 2673.81005859,\n",
       "       2692.01000977, 2736.0300293 , 2729.57006836, 2805.55004883,\n",
       "       2770.07006836, 2826.23999023, 2830.42993164, 2839.        ,\n",
       "       2865.        , 2852.88989258, 2792.98999023, 2814.        ,\n",
       "       2872.85009766, 2821.26000977, 2743.52001953, 2729.30004883,\n",
       "       2680.20996094, 2595.92993164, 2567.48999023, 2605.7199707 ,\n",
       "       2545.06005859, 2559.2199707 , 2610.62011719, 2564.90991211,\n",
       "       2498.75      , 2392.2800293 , 2465.        , 2390.12011719,\n",
       "       2300.40991211, 2388.22998047, 2299.33007812, 2343.13989258,\n",
       "       2362.59008789, 2451.5       , 2334.92993164, 2313.19995117,\n",
       "       2261.67993164, 2291.68994141, 2279.2199707 , 2263.2199707 ,\n",
       "       2330.31005859, 2295.85009766, 2334.0300293 , 2248.02001953,\n",
       "       2214.90991211, 2186.26000977, 2233.33007812, 2118.52001953,\n",
       "       2116.79003906, 2165.91992188, 2255.97998047, 2280.7800293 ,\n",
       "       2282.73999023, 2354.91992188, 2291.2800293 , 2340.20996094,\n",
       "       2344.59008789, 2344.76000977, 2298.36010742, 2228.55004883,\n",
       "       2137.5300293 , 2143.87988281, 2207.81005859, 2132.7199707 ,\n",
       "       2157.31005859, 2240.30004883, 2240.67993164, 2253.68994141,\n",
       "       2370.76000977, 2332.44995117, 2251.42993164, 2245.12988281,\n",
       "       2187.44995117])"
      ]
     },
     "execution_count": 5,
     "metadata": {},
     "output_type": "execute_result"
    }
   ],
   "source": [
    "ran = df.values\n",
    "ran[:,3]"
   ]
  },
  {
   "cell_type": "code",
   "execution_count": 6,
   "id": "82ba78ce",
   "metadata": {},
   "outputs": [
    {
     "data": {
      "text/plain": [
       "(253, 6)"
      ]
     },
     "execution_count": 6,
     "metadata": {},
     "output_type": "execute_result"
    }
   ],
   "source": [
    "#get number of rows and columns\n",
    "df.shape"
   ]
  },
  {
   "cell_type": "code",
   "execution_count": 7,
   "id": "5b7635a3",
   "metadata": {},
   "outputs": [
    {
     "data": {
      "text/plain": [
       "Text(0, 0.5, 'Price')"
      ]
     },
     "execution_count": 7,
     "metadata": {},
     "output_type": "execute_result"
    },
    {
     "data": {
      "image/png": "[encoded data removed]",
      "text/plain": [
       "<Figure size 1152x576 with 1 Axes>"
      ]
     },
     "metadata": {
      "needs_background": "light"
     },
     "output_type": "display_data"
    }
   ],
   "source": [
    "#visualize\n",
    "plt.figure(figsize =(16,8))\n",
    "plt.title('Close Price')\n",
    "plt.plot(df['Close'])\n",
    "plt.xlabel('Data', fontsize = 18)\n",
    "plt.ylabel('Price', fontsize = 18)"
   ]
  },
  {
   "cell_type": "code",
   "execution_count": 8,
   "id": "8fa630c4",
   "metadata": {},
   "outputs": [],
   "source": [
    "#create X and Y dataframes\n",
    "X = pd.DataFrame(df.drop(columns = ['Close']))\n",
    "y = pd.DataFrame(df['Close'])"
   ]
  },
  {
   "cell_type": "code",
   "execution_count": 9,
   "id": "9c2839c6",
   "metadata": {},
   "outputs": [
    {
     "data": {
      "text/html": [
       "<div>\n",
       "<style scoped>\n",
       "    .dataframe tbody tr th:only-of-type {\n",
       "        vertical-align: middle;\n",
       "    }\n",
       "\n",
       "    .dataframe tbody tr th {\n",
       "        vertical-align: top;\n",
       "    }\n",
       "\n",
       "    .dataframe thead th {\n",
       "        text-align: right;\n",
       "    }\n",
       "</style>\n",
       "<table border=\"1\" class=\"dataframe\">\n",
       "  <thead>\n",
       "    <tr style=\"text-align: right;\">\n",
       "      <th></th>\n",
       "      <th>High</th>\n",
       "      <th>Low</th>\n",
       "      <th>Open</th>\n",
       "      <th>Volume</th>\n",
       "      <th>Adj Close</th>\n",
       "    </tr>\n",
       "    <tr>\n",
       "      <th>Date</th>\n",
       "      <th></th>\n",
       "      <th></th>\n",
       "      <th></th>\n",
       "      <th></th>\n",
       "      <th></th>\n",
       "    </tr>\n",
       "  </thead>\n",
       "  <tbody>\n",
       "    <tr>\n",
       "      <th>2021-06-30</th>\n",
       "      <td>2516.000000</td>\n",
       "      <td>2495.149902</td>\n",
       "      <td>2513.071045</td>\n",
       "      <td>1200300</td>\n",
       "      <td>2506.320068</td>\n",
       "    </tr>\n",
       "    <tr>\n",
       "      <th>2021-07-01</th>\n",
       "      <td>2529.250000</td>\n",
       "      <td>2496.995117</td>\n",
       "      <td>2496.995117</td>\n",
       "      <td>856000</td>\n",
       "      <td>2527.370117</td>\n",
       "    </tr>\n",
       "    <tr>\n",
       "      <th>2021-07-02</th>\n",
       "      <td>2576.959961</td>\n",
       "      <td>2535.379883</td>\n",
       "      <td>2536.790039</td>\n",
       "      <td>1058000</td>\n",
       "      <td>2574.379883</td>\n",
       "    </tr>\n",
       "    <tr>\n",
       "      <th>2021-07-06</th>\n",
       "      <td>2597.689941</td>\n",
       "      <td>2568.179932</td>\n",
       "      <td>2588.989990</td>\n",
       "      <td>1067500</td>\n",
       "      <td>2595.419922</td>\n",
       "    </tr>\n",
       "    <tr>\n",
       "      <th>2021-07-07</th>\n",
       "      <td>2612.798096</td>\n",
       "      <td>2595.199951</td>\n",
       "      <td>2606.820068</td>\n",
       "      <td>834000</td>\n",
       "      <td>2601.550049</td>\n",
       "    </tr>\n",
       "    <tr>\n",
       "      <th>...</th>\n",
       "      <td>...</td>\n",
       "      <td>...</td>\n",
       "      <td>...</td>\n",
       "      <td>...</td>\n",
       "      <td>...</td>\n",
       "    </tr>\n",
       "    <tr>\n",
       "      <th>2022-06-24</th>\n",
       "      <td>2372.750000</td>\n",
       "      <td>2272.060059</td>\n",
       "      <td>2272.060059</td>\n",
       "      <td>1954700</td>\n",
       "      <td>2370.760010</td>\n",
       "    </tr>\n",
       "    <tr>\n",
       "      <th>2022-06-27</th>\n",
       "      <td>2385.000000</td>\n",
       "      <td>2320.014893</td>\n",
       "      <td>2378.699951</td>\n",
       "      <td>1642000</td>\n",
       "      <td>2332.449951</td>\n",
       "    </tr>\n",
       "    <tr>\n",
       "      <th>2022-06-28</th>\n",
       "      <td>2357.129883</td>\n",
       "      <td>2248.879883</td>\n",
       "      <td>2327.020020</td>\n",
       "      <td>1411600</td>\n",
       "      <td>2251.429932</td>\n",
       "    </tr>\n",
       "    <tr>\n",
       "      <th>2022-06-29</th>\n",
       "      <td>2273.290039</td>\n",
       "      <td>2231.080078</td>\n",
       "      <td>2242.969971</td>\n",
       "      <td>931400</td>\n",
       "      <td>2245.129883</td>\n",
       "    </tr>\n",
       "    <tr>\n",
       "      <th>2022-06-30</th>\n",
       "      <td>2225.000000</td>\n",
       "      <td>2146.199951</td>\n",
       "      <td>2209.989990</td>\n",
       "      <td>1896307</td>\n",
       "      <td>2187.449951</td>\n",
       "    </tr>\n",
       "  </tbody>\n",
       "</table>\n",
       "<p>253 rows × 5 columns</p>\n",
       "</div>"
      ],
      "text/plain": [
       "                   High          Low         Open   Volume    Adj Close\n",
       "Date                                                                   \n",
       "2021-06-30  2516.000000  2495.149902  2513.071045  1200300  2506.320068\n",
       "2021-07-01  2529.250000  2496.995117  2496.995117   856000  2527.370117\n",
       "2021-07-02  2576.959961  2535.379883  2536.790039  1058000  2574.379883\n",
       "2021-07-06  2597.689941  2568.179932  2588.989990  1067500  2595.419922\n",
       "2021-07-07  2612.798096  2595.199951  2606.820068   834000  2601.550049\n",
       "...                 ...          ...          ...      ...          ...\n",
       "2022-06-24  2372.750000  2272.060059  2272.060059  1954700  2370.760010\n",
       "2022-06-27  2385.000000  2320.014893  2378.699951  1642000  2332.449951\n",
       "2022-06-28  2357.129883  2248.879883  2327.020020  1411600  2251.429932\n",
       "2022-06-29  2273.290039  2231.080078  2242.969971   931400  2245.129883\n",
       "2022-06-30  2225.000000  2146.199951  2209.989990  1896307  2187.449951\n",
       "\n",
       "[253 rows x 5 columns]"
      ]
     },
     "execution_count": 9,
     "metadata": {},
     "output_type": "execute_result"
    }
   ],
   "source": [
    "X"
   ]
  },
  {
   "cell_type": "code",
   "execution_count": 10,
   "id": "29c4b144",
   "metadata": {},
   "outputs": [],
   "source": [
    "import math\n",
    "#create new dataframe with only close\n",
    "\n",
    "#convert dataframe in numpy array\n",
    "X = X.values\n",
    "y = y.values\n",
    "#get number of rows to train our model on\n",
    "training_data_len = math.ceil(X.shape[0]*.99)"
   ]
  },
  {
   "cell_type": "code",
   "execution_count": 11,
   "id": "fb75cf85",
   "metadata": {},
   "outputs": [
    {
     "data": {
      "text/plain": [
       "251"
      ]
     },
     "execution_count": 11,
     "metadata": {},
     "output_type": "execute_result"
    }
   ],
   "source": [
    "training_data_len\n"
   ]
  },
  {
   "cell_type": "code",
   "execution_count": 12,
   "id": "294cc699",
   "metadata": {},
   "outputs": [
    {
     "data": {
      "text/plain": [
       "array([[0.42457068, 0.47293898, 0.43901736, 0.15587284, 0.43407   ],\n",
       "       [0.43906581, 0.474874  , 0.42181336, 0.0674593 , 0.45752697],\n",
       "       [0.49125917, 0.51512691, 0.46440074, 0.11933131, 0.50991197],\n",
       "       ...,\n",
       "       [0.2507712 , 0.21468331, 0.23991091, 0.21013302, 0.150035  ],\n",
       "       [0.15905275, 0.19601721, 0.14996296, 0.08682143, 0.14301459],\n",
       "       [0.1062248 , 0.10700607, 0.11466874, 0.33460197, 0.07873937]])"
      ]
     },
     "execution_count": 12,
     "metadata": {},
     "output_type": "execute_result"
    }
   ],
   "source": [
    "#scale data\n",
    "scaler = MinMaxScaler(feature_range = (0,1))\n",
    "scaled_data = scaler.fit_transform(X)\n",
    "scaled_y = scaler.fit_transform(y)\n",
    "scaled_data"
   ]
  },
  {
   "cell_type": "code",
   "execution_count": 13,
   "id": "8efbdead",
   "metadata": {},
   "outputs": [
    {
     "data": {
      "text/plain": [
       "(253, 5)"
      ]
     },
     "execution_count": 13,
     "metadata": {},
     "output_type": "execute_result"
    }
   ],
   "source": [
    "scaled_data.shape"
   ]
  },
  {
   "cell_type": "code",
   "execution_count": 14,
   "id": "3fe99746",
   "metadata": {},
   "outputs": [
    {
     "data": {
      "text/plain": [
       "(253, 1)"
      ]
     },
     "execution_count": 14,
     "metadata": {},
     "output_type": "execute_result"
    }
   ],
   "source": [
    "scaled_y.shape"
   ]
  },
  {
   "cell_type": "code",
   "execution_count": 15,
   "id": "bb2588ef",
   "metadata": {},
   "outputs": [
    {
     "name": "stdout",
     "output_type": "stream",
     "text": [
      "[array([0.42457068, 0.47293898, 0.43901736, 0.15587284, 0.43407   ,\n",
      "       0.43906581, 0.474874  , 0.42181336, 0.0674593 , 0.45752697,\n",
      "       0.49125917, 0.51512691, 0.46440074, 0.11933131, 0.50991197,\n",
      "       0.51393719, 0.54952329, 0.52026362, 0.12177084, 0.53335778,\n",
      "       0.53046509, 0.57785834, 0.53934486, 0.06180987, 0.54018885,\n",
      "       0.51717531, 0.54178424, 0.49459023, 0.10161265, 0.52011952,\n",
      "       0.51317147, 0.56073376, 0.50945479, 0.04160033, 0.52897849,\n",
      "       0.5333114 , 0.57450265, 0.52848247, 0.06519953, 0.55103138,\n",
      "       0.56114225, 0.59625203, 0.55091321, 0.06101382, 0.56062572,\n",
      "       0.58201506, 0.62269943, 0.57274486, 0.07762827, 0.58487383,\n",
      "       0.57324138, 0.59543404, 0.58555478, 0.06060295, 0.56668795,\n",
      "       0.56422706, 0.60012156, 0.56716931, 0.03839043, 0.57959186,\n",
      "       0.54374793, 0.55220795, 0.55677799, 0.17775153, 0.52183565,\n",
      "       0.56025286, 0.56587008, 0.53213192, 0.09267629, 0.56301056,\n",
      "       0.57372827, 0.59550752, 0.5488907 , 0.03692671, 0.59641854,\n",
      "       0.59314093, 0.6332281 , 0.58876529, 0.0223666 , 0.61264344,\n",
      "       0.70918931, 0.68147736, 0.64462818, 0.18632839, 0.71265571,\n",
      "       0.72897936, 0.74335932, 0.70862447, 0.14362385, 0.75340703,\n",
      "       0.73549939, 0.68985622, 0.74631587, 0.38901443, 0.68993411,\n",
      "       0.72816983, 0.71607294, 0.71530232, 0.54981768, 0.68068501,\n",
      "       0.67293519, 0.71162659, 0.66861297, 0.09524421, 0.68422881,\n",
      "       0.64273825, 0.68386196, 0.65000046, 0.15520518, 0.65482115,\n",
      "       0.64818942, 0.68082707, 0.64943324, 0.10623491, 0.67194873,\n",
      "       0.6550815 , 0.67063404, 0.66046676, 0.0924195 , 0.67842313,\n",
      "       0.65951214, 0.69646288, 0.66580691, 0.05985825, 0.67281795,\n",
      "       0.66852645, 0.7003429 , 0.66107683, 0.        , 0.6931324 ,\n",
      "       0.67137196, 0.70970744, 0.66678067, 0.0217503 , 0.69527185,\n",
      "       0.69853403, 0.71772454, 0.68077859, 0.00652252, 0.71680103,\n",
      "       0.70356641, 0.73445613, 0.70497528, 0.05351548, 0.71890702,\n",
      "       0.71004825, 0.73704631, 0.70933069, 0.04285861, 0.70983639])]\n",
      "[array([0.72543719])]\n",
      "\n"
     ]
    }
   ],
   "source": [
    "#create the training dataset\n",
    "\n",
    "#create scaled data\n",
    "X = scaled_data[0:training_data_len, :]\n",
    "Y = scaled_y[0:training_data_len, :]\n",
    "#split data into X_train and y_train\n",
    "X_train = []\n",
    "y_train = []\n",
    "for i in range(30, len(X)):\n",
    "    X_train.append(X[i-30:i, :].ravel())\n",
    "    y_train.append(Y[i, :])\n",
    "    if i<=30:\n",
    "        print(X_train)\n",
    "        print(y_train)\n",
    "        print()\n"
   ]
  },
  {
   "cell_type": "code",
   "execution_count": 16,
   "id": "e6e0ff02",
   "metadata": {},
   "outputs": [
    {
     "data": {
      "text/plain": [
       "[array([0.72543719]),\n",
       " array([0.72580501]),\n",
       " array([0.73717125]),\n",
       " array([0.70116677]),\n",
       " array([0.6848861]),\n",
       " array([0.69254177]),\n",
       " array([0.72649576]),\n",
       " array([0.78583452]),\n",
       " array([0.81478512]),\n",
       " array([0.82707635]),\n",
       " array([0.80864508]),\n",
       " array([0.86274648]),\n",
       " array([0.88322797]),\n",
       " array([0.88306093]),\n",
       " array([0.89153004]),\n",
       " array([0.85535825]),\n",
       " array([0.86774987]),\n",
       " array([0.88433116]),\n",
       " array([0.87016791]),\n",
       " array([0.87083662]),\n",
       " array([0.80414309]),\n",
       " array([0.83855414]),\n",
       " array([0.83723929]),\n",
       " array([0.87735563]),\n",
       " array([0.85880166]),\n",
       " array([0.79394696]),\n",
       " array([0.73942224]),\n",
       " array([0.75345165]),\n",
       " array([0.78224636]),\n",
       " array([0.8020371]),\n",
       " array([0.82001132]),\n",
       " array([0.79478272]),\n",
       " array([0.67628341]),\n",
       " array([0.63922035]),\n",
       " array([0.61123936]),\n",
       " array([0.68249037]),\n",
       " array([0.62237163]),\n",
       " array([0.67612752]),\n",
       " array([0.70235919]),\n",
       " array([0.74317744]),\n",
       " array([0.76257832]),\n",
       " array([0.73564447]),\n",
       " array([0.68807324]),\n",
       " array([0.71452773]),\n",
       " array([0.79279916]),\n",
       " array([0.79866061]),\n",
       " array([0.82731032]),\n",
       " array([0.84651043]),\n",
       " array([0.81515294]),\n",
       " array([0.82329885]),\n",
       " array([0.7306857]),\n",
       " array([0.73398411]),\n",
       " array([0.75401997]),\n",
       " array([0.90457895]),\n",
       " array([0.89792636]),\n",
       " array([0.94565348]),\n",
       " array([0.8454407]),\n",
       " array([0.89199798]),\n",
       " array([0.91265794]),\n",
       " array([0.95484681]),\n",
       " array([0.96728305]),\n",
       " array([0.9697457]),\n",
       " array([0.96745009]),\n",
       " array([0.90900286]),\n",
       " array([0.91172179]),\n",
       " array([0.97629791]),\n",
       " array([0.97055915]),\n",
       " array([0.96360566]),\n",
       " array([0.96329361]),\n",
       " array([1.]),\n",
       " array([0.98314012]),\n",
       " array([0.91908772]),\n",
       " array([0.9119223]),\n",
       " array([0.9110422]),\n",
       " array([0.82386718]),\n",
       " array([0.897592]),\n",
       " array([0.81597754]),\n",
       " array([0.79739038]),\n",
       " array([0.84549647]),\n",
       " array([0.81750405]),\n",
       " array([0.8459421]),\n",
       " array([0.94043843]),\n",
       " array([0.95568256]),\n",
       " array([0.94198752]),\n",
       " array([0.95466861]),\n",
       " array([0.91075246]),\n",
       " array([0.87210685]),\n",
       " array([0.92555096]),\n",
       " array([0.86916511]),\n",
       " array([0.82380025]),\n",
       " array([0.81485205]),\n",
       " array([0.85539171]),\n",
       " array([0.91620147]),\n",
       " array([0.92051411]),\n",
       " array([0.94105137]),\n",
       " array([0.90503574]),\n",
       " array([0.90629508]),\n",
       " array([0.89510704]),\n",
       " array([0.86562157]),\n",
       " array([0.87442477]),\n",
       " array([0.85976012]),\n",
       " array([0.70903409]),\n",
       " array([0.70674964]),\n",
       " array([0.69456995]),\n",
       " array([0.72954905]),\n",
       " array([0.76172026]),\n",
       " array([0.79805882]),\n",
       " array([0.74196298]),\n",
       " array([0.75657186]),\n",
       " array([0.6786571]),\n",
       " array([0.66442692]),\n",
       " array([0.61661029]),\n",
       " array([0.54051205]),\n",
       " array([0.5467522]),\n",
       " array([0.46570607]),\n",
       " array([0.5215236]),\n",
       " array([0.51887133]),\n",
       " array([0.61177422]),\n",
       " array([0.66546318]),\n",
       " array([0.71404864]),\n",
       " array([0.94043843]),\n",
       " array([0.82040145]),\n",
       " array([0.82854736]),\n",
       " array([0.7376615]),\n",
       " array([0.74379038]),\n",
       " array([0.793713]),\n",
       " array([0.7301843]),\n",
       " array([0.63050639]),\n",
       " array([0.6565819]),\n",
       " array([0.68166577]),\n",
       " array([0.7053344]),\n",
       " array([0.58991068]),\n",
       " array([0.54888077]),\n",
       " array([0.52514522]),\n",
       " array([0.48463875]),\n",
       " array([0.59804544]),\n",
       " array([0.63918689]),\n",
       " array([0.64746665]),\n",
       " array([0.6313533]),\n",
       " array([0.64435759]),\n",
       " array([0.63447324]),\n",
       " array([0.5857542]),\n",
       " array([0.45966642]),\n",
       " array([0.47780795]),\n",
       " array([0.62462262]),\n",
       " array([0.59823479]),\n",
       " array([0.54905897]),\n",
       " array([0.46582877]),\n",
       " array([0.53089513]),\n",
       " array([0.62071127]),\n",
       " array([0.64099225]),\n",
       " array([0.69004565]),\n",
       " array([0.68284704]),\n",
       " array([0.76751478]),\n",
       " array([0.72797792]),\n",
       " array([0.79057047]),\n",
       " array([0.7952395]),\n",
       " array([0.8047895]),\n",
       " array([0.83376241]),\n",
       " array([0.8202676]),\n",
       " array([0.75351857]),\n",
       " array([0.77693093]),\n",
       " array([0.84251011]),\n",
       " array([0.78502107]),\n",
       " array([0.69839207]),\n",
       " array([0.68254614]),\n",
       " array([0.62784295]),\n",
       " array([0.53392611]),\n",
       " array([0.50223426]),\n",
       " array([0.54483557]),\n",
       " array([0.47723963]),\n",
       " array([0.49301863]),\n",
       " array([0.55029601]),\n",
       " array([0.49935917]),\n",
       " array([0.42563435]),\n",
       " array([0.3069903]),\n",
       " array([0.38802528]),\n",
       " array([0.30458342]),\n",
       " array([0.20461549]),\n",
       " array([0.30247715]),\n",
       " array([0.20341219]),\n",
       " array([0.25223134]),\n",
       " array([0.27390552]),\n",
       " array([0.37298165]),\n",
       " array([0.24308263]),\n",
       " array([0.21886798]),\n",
       " array([0.16145701]),\n",
       " array([0.19489845]),\n",
       " array([0.18100263]),\n",
       " array([0.16317315]),\n",
       " array([0.2379345]),\n",
       " array([0.19953429]),\n",
       " array([0.24207983]),\n",
       " array([0.14623519]),\n",
       " array([0.10933918]),\n",
       " array([0.07741336]),\n",
       " array([0.12986556]),\n",
       " array([0.00192779]),\n",
       " array([0.]),\n",
       " array([0.05474753]),\n",
       " array([0.15510531]),\n",
       " array([0.18274107]),\n",
       " array([0.18492514]),\n",
       " array([0.26535833]),\n",
       " array([0.19444167]),\n",
       " array([0.24896639]),\n",
       " array([0.25384735]),\n",
       " array([0.2540367]),\n",
       " array([0.20233131]),\n",
       " array([0.12453897]),\n",
       " array([0.02311146]),\n",
       " array([0.03018737]),\n",
       " array([0.10142751]),\n",
       " array([0.01775141]),\n",
       " array([0.04515319]),\n",
       " array([0.13763249]),\n",
       " array([0.13805581]),\n",
       " array([0.15255343]),\n",
       " array([0.28300962]),\n",
       " array([0.24031908]),\n",
       " array([0.150035])]"
      ]
     },
     "execution_count": 16,
     "metadata": {},
     "output_type": "execute_result"
    }
   ],
   "source": [
    "y_train"
   ]
  },
  {
   "cell_type": "code",
   "execution_count": 17,
   "id": "e3b5fa03",
   "metadata": {},
   "outputs": [],
   "source": [
    "#convert x_train and Y_train to numpy arrays\n",
    "X_train, y_train = np.array(X_train), np.array(y_train)"
   ]
  },
  {
   "cell_type": "code",
   "execution_count": 18,
   "id": "48b988b3",
   "metadata": {},
   "outputs": [
    {
     "data": {
      "text/plain": [
       "(221, 150)"
      ]
     },
     "execution_count": 18,
     "metadata": {},
     "output_type": "execute_result"
    }
   ],
   "source": [
    "X_train.shape"
   ]
  },
  {
   "cell_type": "code",
   "execution_count": 19,
   "id": "c1ee2a6d",
   "metadata": {},
   "outputs": [],
   "source": [
    "#reshape x_train\n",
    "X_train = np.reshape(X_train, (X_train.shape[0],X_train.shape[1], 1))"
   ]
  },
  {
   "cell_type": "code",
   "execution_count": 20,
   "id": "9fc080af",
   "metadata": {},
   "outputs": [],
   "source": [
    "#build LSTM model\n",
    "model = Sequential()\n",
    "model.add(LSTM(50, return_sequences = True, input_shape = (X_train.shape[1],1)))\n",
    "model.add(LSTM(50, return_sequences = False ))\n",
    "model.add(Dense(25))\n",
    "model.add(Dense(1))"
   ]
  },
  {
   "cell_type": "code",
   "execution_count": 21,
   "id": "21c4b359",
   "metadata": {},
   "outputs": [],
   "source": [
    "#compile model\n",
    "model.compile(optimizer = 'adam', loss = 'mean_squared_error')"
   ]
  },
  {
   "cell_type": "code",
   "execution_count": 22,
   "id": "bc49f757",
   "metadata": {},
   "outputs": [
    {
     "name": "stdout",
     "output_type": "stream",
     "text": [
      "221/221 [==============================] - 15s 55ms/step - loss: 0.0201\n"
     ]
    },
    {
     "data": {
      "text/plain": [
       "<keras.callbacks.History at 0x1b6a453d6d0>"
      ]
     },
     "execution_count": 22,
     "metadata": {},
     "output_type": "execute_result"
    }
   ],
   "source": [
    "#train model\n",
    "model.fit(X_train, y_train, batch_size = 1, epochs = 1)"
   ]
  },
  {
   "cell_type": "code",
   "execution_count": null,
   "id": "da3ea9ed",
   "metadata": {},
   "outputs": [],
   "source": [
    "\n"
   ]
  },
  {
   "cell_type": "code",
   "execution_count": 23,
   "id": "75d40e36",
   "metadata": {},
   "outputs": [],
   "source": [
    "#create testing dataset\n",
    "test_data = scaled_data[training_data_len-30: , :]\n",
    "#create x_test, y_test\n",
    "X_test =[]\n",
    "y_test = y[training_data_len:,]\n",
    "for i in range(30, len(test_data)):\n",
    "    X_test.append(test_data[i-30:i,:].ravel())"
   ]
  },
  {
   "cell_type": "code",
   "execution_count": 24,
   "id": "9f269ac4",
   "metadata": {},
   "outputs": [
    {
     "data": {
      "text/plain": [
       "array([[2245.12988281],\n",
       "       [2187.44995117]])"
      ]
     },
     "execution_count": 24,
     "metadata": {},
     "output_type": "execute_result"
    }
   ],
   "source": [
    "y_test"
   ]
  },
  {
   "cell_type": "code",
   "execution_count": 25,
   "id": "7a198c40",
   "metadata": {},
   "outputs": [
    {
     "data": {
      "text/plain": [
       "array([[0.2234438 , 0.25434403, 0.2192137 , 0.14657696, 0.19953429,\n",
       "        0.23700921, 0.27536989, 0.25867104, 0.12467259, 0.24207983,\n",
       "        0.20349323, 0.20834956, 0.21607817, 0.20692312, 0.14623519,\n",
       "        0.15736799, 0.17324015, 0.14338152, 0.22245904, 0.10933918,\n",
       "        0.13466807, 0.08735403, 0.14861454, 0.33023471, 0.07741336,\n",
       "        0.12275483, 0.14568623, 0.10620378, 0.25283755, 0.12986556,\n",
       "        0.        , 0.        , 0.02644389, 0.62297776, 0.00192779,\n",
       "        0.00327551, 0.04201498, 0.        , 0.33426634, 0.        ,\n",
       "        0.05601693, 0.06879264, 0.01944493, 0.23653125, 0.05474753,\n",
       "        0.14162585, 0.15398648, 0.09945094, 0.23185763, 0.15510531,\n",
       "        0.2196368 , 0.21737846, 0.16987897, 0.50634277, 0.18274107,\n",
       "        0.24076146, 0.23789048, 0.2095286 , 0.21524318, 0.18492514,\n",
       "        0.25167928, 0.23280434, 0.19361529, 0.20037492, 0.26535833,\n",
       "        0.21812725, 0.24035495, 0.23223786, 0.16930307, 0.19444167,\n",
       "        0.2845094 , 0.3003449 , 0.24829043, 0.15304812, 0.24896639,\n",
       "        0.24841152, 0.27092355, 0.22486424, 0.18679061, 0.25384735,\n",
       "        0.26804506, 0.30387801, 0.25115842, 0.13710133, 0.2540367 ,\n",
       "        0.26156884, 0.26550201, 0.23970764, 0.14477942, 0.20233131,\n",
       "        0.15538784, 0.18148255, 0.16350601, 0.24983309, 0.12453897,\n",
       "        0.06177684, 0.09186438, 0.04931331, 0.31957783, 0.02311146,\n",
       "        0.04512635, 0.08691367, 0.03741314, 0.17479842, 0.03018737,\n",
       "        0.12401279, 0.12396834, 0.08042326, 0.27381747, 0.10142751,\n",
       "        0.0633521 , 0.07517913, 0.06437069, 0.30106312, 0.01775141,\n",
       "        0.06245496, 0.07174049, 0.02981482, 0.40321504, 0.04515319,\n",
       "        0.1373592 , 0.14860694, 0.09759956, 0.34851831, 0.13763249,\n",
       "        0.16134993, 0.17861561, 0.12886993, 0.15479431, 0.13805581,\n",
       "        0.14881306, 0.18500619, 0.16711784, 0.16491192, 0.15255343,\n",
       "        0.26785917, 0.23899163, 0.18109434, 0.34959684, 0.28300962,\n",
       "        0.28126033, 0.28928037, 0.29521728, 0.26929793, 0.24031908,\n",
       "        0.2507712 , 0.21468331, 0.23991091, 0.21013302, 0.150035  ],\n",
       "       [0.23700921, 0.27536989, 0.25867104, 0.12467259, 0.24207983,\n",
       "        0.20349323, 0.20834956, 0.21607817, 0.20692312, 0.14623519,\n",
       "        0.15736799, 0.17324015, 0.14338152, 0.22245904, 0.10933918,\n",
       "        0.13466807, 0.08735403, 0.14861454, 0.33023471, 0.07741336,\n",
       "        0.12275483, 0.14568623, 0.10620378, 0.25283755, 0.12986556,\n",
       "        0.        , 0.        , 0.02644389, 0.62297776, 0.00192779,\n",
       "        0.00327551, 0.04201498, 0.        , 0.33426634, 0.        ,\n",
       "        0.05601693, 0.06879264, 0.01944493, 0.23653125, 0.05474753,\n",
       "        0.14162585, 0.15398648, 0.09945094, 0.23185763, 0.15510531,\n",
       "        0.2196368 , 0.21737846, 0.16987897, 0.50634277, 0.18274107,\n",
       "        0.24076146, 0.23789048, 0.2095286 , 0.21524318, 0.18492514,\n",
       "        0.25167928, 0.23280434, 0.19361529, 0.20037492, 0.26535833,\n",
       "        0.21812725, 0.24035495, 0.23223786, 0.16930307, 0.19444167,\n",
       "        0.2845094 , 0.3003449 , 0.24829043, 0.15304812, 0.24896639,\n",
       "        0.24841152, 0.27092355, 0.22486424, 0.18679061, 0.25384735,\n",
       "        0.26804506, 0.30387801, 0.25115842, 0.13710133, 0.2540367 ,\n",
       "        0.26156884, 0.26550201, 0.23970764, 0.14477942, 0.20233131,\n",
       "        0.15538784, 0.18148255, 0.16350601, 0.24983309, 0.12453897,\n",
       "        0.06177684, 0.09186438, 0.04931331, 0.31957783, 0.02311146,\n",
       "        0.04512635, 0.08691367, 0.03741314, 0.17479842, 0.03018737,\n",
       "        0.12401279, 0.12396834, 0.08042326, 0.27381747, 0.10142751,\n",
       "        0.0633521 , 0.07517913, 0.06437069, 0.30106312, 0.01775141,\n",
       "        0.06245496, 0.07174049, 0.02981482, 0.40321504, 0.04515319,\n",
       "        0.1373592 , 0.14860694, 0.09759956, 0.34851831, 0.13763249,\n",
       "        0.16134993, 0.17861561, 0.12886993, 0.15479431, 0.13805581,\n",
       "        0.14881306, 0.18500619, 0.16711784, 0.16491192, 0.15255343,\n",
       "        0.26785917, 0.23899163, 0.18109434, 0.34959684, 0.28300962,\n",
       "        0.28126033, 0.28928037, 0.29521728, 0.26929793, 0.24031908,\n",
       "        0.2507712 , 0.21468331, 0.23991091, 0.21013302, 0.150035  ,\n",
       "        0.15905275, 0.19601721, 0.14996296, 0.08682143, 0.14301459]])"
      ]
     },
     "execution_count": 25,
     "metadata": {},
     "output_type": "execute_result"
    }
   ],
   "source": [
    "#convert data to a numpy array\n",
    "X_test = np.array(X_test)\n",
    "X_test"
   ]
  },
  {
   "cell_type": "code",
   "execution_count": 26,
   "id": "2e3b2149",
   "metadata": {},
   "outputs": [
    {
     "data": {
      "text/plain": [
       "(2, 150, 1)"
      ]
     },
     "execution_count": 26,
     "metadata": {},
     "output_type": "execute_result"
    }
   ],
   "source": [
    "#reshape data\n",
    "X_test = np.reshape(X_test, (X_test.shape[0], X_test.shape[1],1))\n",
    "X_test.shape"
   ]
  },
  {
   "cell_type": "code",
   "execution_count": 27,
   "id": "2933fd72",
   "metadata": {},
   "outputs": [
    {
     "name": "stdout",
     "output_type": "stream",
     "text": [
      "1/1 [==============================] - 1s 994ms/step\n"
     ]
    }
   ],
   "source": [
    "#get models predicted price values\n",
    "predictions = model.predict(X_test)\n",
    "predictions = scaler.inverse_transform(predictions)\n"
   ]
  },
  {
   "cell_type": "code",
   "execution_count": 28,
   "id": "fb46e9eb",
   "metadata": {},
   "outputs": [
    {
     "data": {
      "text/plain": [
       "113.488037109375"
      ]
     },
     "execution_count": 28,
     "metadata": {},
     "output_type": "execute_result"
    }
   ],
   "source": [
    "#getting the root mean squared error\n",
    "rmse = np.sqrt(np.mean(predictions-y_test)**2)\n",
    "rmse"
   ]
  },
  {
   "cell_type": "code",
   "execution_count": 29,
   "id": "a74e649a",
   "metadata": {},
   "outputs": [
    {
     "name": "stderr",
     "output_type": "stream",
     "text": [
      "C:\\Users\\jyama\\AppData\\Local\\Temp/ipykernel_1304/1476690831.py:5: SettingWithCopyWarning: \n",
      "A value is trying to be set on a copy of a slice from a DataFrame.\n",
      "Try using .loc[row_indexer,col_indexer] = value instead\n",
      "\n",
      "See the caveats in the documentation: https://pandas.pydata.org/pandas-docs/stable/user_guide/indexing.html#returning-a-view-versus-a-copy\n",
      "  valid['Predictions'] = predictions\n"
     ]
    },
    {
     "data": {
      "text/plain": [
       "<matplotlib.legend.Legend at 0x1b6a9f0c0d0>"
      ]
     },
     "execution_count": 29,
     "metadata": {},
     "output_type": "execute_result"
    },
    {
     "data": {
      "image/png": "[encoded data removed]",
      "text/plain": [
       "<Figure size 1152x576 with 1 Axes>"
      ]
     },
     "metadata": {
      "needs_background": "light"
     },
     "output_type": "display_data"
    }
   ],
   "source": [
    "#plot data\n",
    "data = df.filter(['Close'])\n",
    "train= data[0:training_data_len]\n",
    "valid = data[training_data_len :]\n",
    "valid['Predictions'] = predictions\n",
    "\n",
    "#visualize\n",
    "plt.figure(figsize = (16,8))\n",
    "plt.title('Model')\n",
    "plt.xlabel('Date', fontsize = 18)\n",
    "plt.ylabel('Close', fontsize = 18)\n",
    "plt.plot(train['Close'])\n",
    "plt.plot(valid[['Close','Predictions']])\n",
    "plt.legend(['Train', 'Valid', 'Predictions'], loc='lower right')"
   ]
  },
  {
   "cell_type": "code",
   "execution_count": 30,
   "id": "a9b95d93",
   "metadata": {},
   "outputs": [
    {
     "data": {
      "text/html": [
       "<div>\n",
       "<style scoped>\n",
       "    .dataframe tbody tr th:only-of-type {\n",
       "        vertical-align: middle;\n",
       "    }\n",
       "\n",
       "    .dataframe tbody tr th {\n",
       "        vertical-align: top;\n",
       "    }\n",
       "\n",
       "    .dataframe thead th {\n",
       "        text-align: right;\n",
       "    }\n",
       "</style>\n",
       "<table border=\"1\" class=\"dataframe\">\n",
       "  <thead>\n",
       "    <tr style=\"text-align: right;\">\n",
       "      <th></th>\n",
       "      <th>Close</th>\n",
       "      <th>Predictions</th>\n",
       "    </tr>\n",
       "    <tr>\n",
       "      <th>Date</th>\n",
       "      <th></th>\n",
       "      <th></th>\n",
       "    </tr>\n",
       "  </thead>\n",
       "  <tbody>\n",
       "    <tr>\n",
       "      <th>2022-06-29</th>\n",
       "      <td>2245.129883</td>\n",
       "      <td>2349.527344</td>\n",
       "    </tr>\n",
       "    <tr>\n",
       "      <th>2022-06-30</th>\n",
       "      <td>2187.449951</td>\n",
       "      <td>2310.028564</td>\n",
       "    </tr>\n",
       "  </tbody>\n",
       "</table>\n",
       "</div>"
      ],
      "text/plain": [
       "                  Close  Predictions\n",
       "Date                                \n",
       "2022-06-29  2245.129883  2349.527344\n",
       "2022-06-30  2187.449951  2310.028564"
      ]
     },
     "execution_count": 30,
     "metadata": {},
     "output_type": "execute_result"
    }
   ],
   "source": [
    "#show the valid acutal price vs predicted\n",
    "valid"
   ]
  },
  {
   "cell_type": "code",
   "execution_count": null,
   "id": "cad83b2c",
   "metadata": {},
   "outputs": [],
   "source": []
  },
  {
   "cell_type": "code",
   "execution_count": 31,
   "id": "bfe13d9b",
   "metadata": {},
   "outputs": [
    {
     "data": {
      "text/plain": [
       "(253,)"
      ]
     },
     "execution_count": 31,
     "metadata": {},
     "output_type": "execute_result"
    }
   ],
   "source": [
    "close = df['Close'].values\n",
    "close.shape"
   ]
  },
  {
   "cell_type": "code",
   "execution_count": null,
   "id": "de209f85",
   "metadata": {},
   "outputs": [],
   "source": []
  },
  {
   "cell_type": "code",
   "execution_count": 32,
   "id": "2088e1a7",
   "metadata": {},
   "outputs": [
    {
     "name": "stdout",
     "output_type": "stream",
     "text": [
      "1/1 [==============================] - 0s 32ms/step\n",
      "2349.52734375\n"
     ]
    }
   ],
   "source": [
    "#predict tomorrows price\n",
    "X_val = X[-30:,:].ravel()\n",
    "X_v = []\n",
    "X_v.append(X_val)\n",
    "X_v = np.array(X_v)\n",
    "X_v = np.reshape(X_v ,(X_v.shape[0],X_v.shape[1],1))\n",
    "tomorrow = model.predict(X_v)\n",
    "tomorrow = float(scaler.inverse_transform(tomorrow))\n",
    "print(tomorrow)\n"
   ]
  },
  {
   "cell_type": "code",
   "execution_count": 33,
   "id": "9db71c72",
   "metadata": {},
   "outputs": [
    {
     "name": "stdout",
     "output_type": "stream",
     "text": [
      "[7.40942176]\n"
     ]
    }
   ],
   "source": [
    "#get percentage of change\n",
    "percent_from_close = (tomorrow - close[-1:])/close[-1:]\n",
    "print(percent_from_close*100)"
   ]
  },
  {
   "cell_type": "code",
   "execution_count": 34,
   "id": "2ba9a4c1",
   "metadata": {},
   "outputs": [
    {
     "name": "stdout",
     "output_type": "stream",
     "text": [
      "1.7098827220011419\n"
     ]
    }
   ],
   "source": [
    "percent_from_predict = (tomorrow - valid['Predictions'].values[1])/valid['Predictions'].values[1]\n",
    "print(percent_from_predict*100)"
   ]
  },
  {
   "cell_type": "code",
   "execution_count": null,
   "id": "5d095b5a",
   "metadata": {},
   "outputs": [],
   "source": []
  }
 ],
 "metadata": {
  "kernelspec": {
   "display_name": "Python 3 (ipykernel)",
   "language": "python",
   "name": "python3"
  },
  "language_info": {
   "codemirror_mode": {
    "name": "ipython",
    "version": 3
   },
   "file_extension": ".py",
   "mimetype": "text/x-python",
   "name": "python",
   "nbconvert_exporter": "python",
   "pygments_lexer": "ipython3",
   "version": "3.9.7"
  }
 },
 "nbformat": 4,
 "nbformat_minor": 5
}
