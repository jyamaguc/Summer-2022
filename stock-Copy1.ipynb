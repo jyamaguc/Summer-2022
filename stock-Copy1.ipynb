{
 "cells": [
  {
   "cell_type": "markdown",
   "id": "53022f7d",
   "metadata": {},
   "source": [
    "Followed https://www.youtube.com/watch?v=QIUxPv5PJOY&t=215s"
   ]
  },
  {
   "cell_type": "code",
   "execution_count": 1,
   "id": "6177336d",
   "metadata": {},
   "outputs": [
    {
     "name": "stdout",
     "output_type": "stream",
     "text": [
      "Requirement already satisfied: tensorflow in c:\\users\\jyama\\anaconda3\\lib\\site-packages (2.9.1)\n",
      "Requirement already satisfied: h5py>=2.9.0 in c:\\users\\jyama\\anaconda3\\lib\\site-packages (from tensorflow) (3.2.1)\n",
      "Requirement already satisfied: typing-extensions>=3.6.6 in c:\\users\\jyama\\anaconda3\\lib\\site-packages (from tensorflow) (3.10.0.2)\n",
      "Requirement already satisfied: opt-einsum>=2.3.2 in c:\\users\\jyama\\anaconda3\\lib\\site-packages (from tensorflow) (3.3.0)\n",
      "Requirement already satisfied: flatbuffers<2,>=1.12 in c:\\users\\jyama\\anaconda3\\lib\\site-packages (from tensorflow) (1.12)\n",
      "Requirement already satisfied: tensorflow-io-gcs-filesystem>=0.23.1 in c:\\users\\jyama\\anaconda3\\lib\\site-packages (from tensorflow) (0.26.0)\n",
      "Requirement already satisfied: setuptools in c:\\users\\jyama\\anaconda3\\lib\\site-packages (from tensorflow) (58.0.4)\n",
      "Requirement already satisfied: protobuf<3.20,>=3.9.2 in c:\\users\\jyama\\anaconda3\\lib\\site-packages (from tensorflow) (3.19.4)\n",
      "Requirement already satisfied: grpcio<2.0,>=1.24.3 in c:\\users\\jyama\\anaconda3\\lib\\site-packages (from tensorflow) (1.47.0)\n",
      "Requirement already satisfied: google-pasta>=0.1.1 in c:\\users\\jyama\\anaconda3\\lib\\site-packages (from tensorflow) (0.2.0)\n",
      "Requirement already satisfied: wrapt>=1.11.0 in c:\\users\\jyama\\anaconda3\\lib\\site-packages (from tensorflow) (1.12.1)\n",
      "Requirement already satisfied: tensorflow-estimator<2.10.0,>=2.9.0rc0 in c:\\users\\jyama\\anaconda3\\lib\\site-packages (from tensorflow) (2.9.0)\n",
      "Requirement already satisfied: libclang>=13.0.0 in c:\\users\\jyama\\anaconda3\\lib\\site-packages (from tensorflow) (14.0.1)\n",
      "Requirement already satisfied: packaging in c:\\users\\jyama\\anaconda3\\lib\\site-packages (from tensorflow) (21.0)\n",
      "Requirement already satisfied: tensorboard<2.10,>=2.9 in c:\\users\\jyama\\anaconda3\\lib\\site-packages (from tensorflow) (2.9.1)\n",
      "Requirement already satisfied: keras<2.10.0,>=2.9.0rc0 in c:\\users\\jyama\\anaconda3\\lib\\site-packages (from tensorflow) (2.9.0)\n",
      "Requirement already satisfied: absl-py>=1.0.0 in c:\\users\\jyama\\anaconda3\\lib\\site-packages (from tensorflow) (1.1.0)\n",
      "Requirement already satisfied: astunparse>=1.6.0 in c:\\users\\jyama\\anaconda3\\lib\\site-packages (from tensorflow) (1.6.3)\n",
      "Requirement already satisfied: six>=1.12.0 in c:\\users\\jyama\\anaconda3\\lib\\site-packages (from tensorflow) (1.16.0)\n",
      "Requirement already satisfied: keras-preprocessing>=1.1.1 in c:\\users\\jyama\\anaconda3\\lib\\site-packages (from tensorflow) (1.1.2)\n",
      "Requirement already satisfied: gast<=0.4.0,>=0.2.1 in c:\\users\\jyama\\anaconda3\\lib\\site-packages (from tensorflow) (0.4.0)\n",
      "Requirement already satisfied: numpy>=1.20 in c:\\users\\jyama\\anaconda3\\lib\\site-packages (from tensorflow) (1.20.3)\n",
      "Requirement already satisfied: termcolor>=1.1.0 in c:\\users\\jyama\\anaconda3\\lib\\site-packages (from tensorflow) (1.1.0)\n",
      "Requirement already satisfied: wheel<1.0,>=0.23.0 in c:\\users\\jyama\\anaconda3\\lib\\site-packages (from astunparse>=1.6.0->tensorflow) (0.37.0)\n",
      "Requirement already satisfied: markdown>=2.6.8 in c:\\users\\jyama\\anaconda3\\lib\\site-packages (from tensorboard<2.10,>=2.9->tensorflow) (3.3.7)\n",
      "Requirement already satisfied: tensorboard-data-server<0.7.0,>=0.6.0 in c:\\users\\jyama\\anaconda3\\lib\\site-packages (from tensorboard<2.10,>=2.9->tensorflow) (0.6.1)\n",
      "Requirement already satisfied: google-auth-oauthlib<0.5,>=0.4.1 in c:\\users\\jyama\\anaconda3\\lib\\site-packages (from tensorboard<2.10,>=2.9->tensorflow) (0.4.6)\n",
      "Requirement already satisfied: tensorboard-plugin-wit>=1.6.0 in c:\\users\\jyama\\anaconda3\\lib\\site-packages (from tensorboard<2.10,>=2.9->tensorflow) (1.8.1)\n",
      "Requirement already satisfied: google-auth<3,>=1.6.3 in c:\\users\\jyama\\anaconda3\\lib\\site-packages (from tensorboard<2.10,>=2.9->tensorflow) (2.8.0)\n",
      "Requirement already satisfied: requests<3,>=2.21.0 in c:\\users\\jyama\\anaconda3\\lib\\site-packages (from tensorboard<2.10,>=2.9->tensorflow) (2.26.0)\n",
      "Requirement already satisfied: werkzeug>=1.0.1 in c:\\users\\jyama\\anaconda3\\lib\\site-packages (from tensorboard<2.10,>=2.9->tensorflow) (2.0.2)\n",
      "Requirement already satisfied: pyasn1-modules>=0.2.1 in c:\\users\\jyama\\anaconda3\\lib\\site-packages (from google-auth<3,>=1.6.3->tensorboard<2.10,>=2.9->tensorflow) (0.2.8)\n",
      "Requirement already satisfied: cachetools<6.0,>=2.0.0 in c:\\users\\jyama\\anaconda3\\lib\\site-packages (from google-auth<3,>=1.6.3->tensorboard<2.10,>=2.9->tensorflow) (5.2.0)\n",
      "Requirement already satisfied: rsa<5,>=3.1.4 in c:\\users\\jyama\\anaconda3\\lib\\site-packages (from google-auth<3,>=1.6.3->tensorboard<2.10,>=2.9->tensorflow) (4.8)\n",
      "Requirement already satisfied: requests-oauthlib>=0.7.0 in c:\\users\\jyama\\anaconda3\\lib\\site-packages (from google-auth-oauthlib<0.5,>=0.4.1->tensorboard<2.10,>=2.9->tensorflow) (1.3.1)\n",
      "Requirement already satisfied: importlib-metadata>=4.4 in c:\\users\\jyama\\anaconda3\\lib\\site-packages (from markdown>=2.6.8->tensorboard<2.10,>=2.9->tensorflow) (4.8.1)\n",
      "Requirement already satisfied: zipp>=0.5 in c:\\users\\jyama\\anaconda3\\lib\\site-packages (from importlib-metadata>=4.4->markdown>=2.6.8->tensorboard<2.10,>=2.9->tensorflow) (3.6.0)\n",
      "Requirement already satisfied: pyasn1<0.5.0,>=0.4.6 in c:\\users\\jyama\\anaconda3\\lib\\site-packages (from pyasn1-modules>=0.2.1->google-auth<3,>=1.6.3->tensorboard<2.10,>=2.9->tensorflow) (0.4.8)\n",
      "Requirement already satisfied: urllib3<1.27,>=1.21.1 in c:\\users\\jyama\\anaconda3\\lib\\site-packages (from requests<3,>=2.21.0->tensorboard<2.10,>=2.9->tensorflow) (1.26.7)\n",
      "Requirement already satisfied: idna<4,>=2.5 in c:\\users\\jyama\\anaconda3\\lib\\site-packages (from requests<3,>=2.21.0->tensorboard<2.10,>=2.9->tensorflow) (3.2)\n",
      "Requirement already satisfied: certifi>=2017.4.17 in c:\\users\\jyama\\anaconda3\\lib\\site-packages (from requests<3,>=2.21.0->tensorboard<2.10,>=2.9->tensorflow) (2021.10.8)\n",
      "Requirement already satisfied: charset-normalizer~=2.0.0 in c:\\users\\jyama\\anaconda3\\lib\\site-packages (from requests<3,>=2.21.0->tensorboard<2.10,>=2.9->tensorflow) (2.0.4)\n",
      "Requirement already satisfied: oauthlib>=3.0.0 in c:\\users\\jyama\\anaconda3\\lib\\site-packages (from requests-oauthlib>=0.7.0->google-auth-oauthlib<0.5,>=0.4.1->tensorboard<2.10,>=2.9->tensorflow) (3.2.0)\n",
      "Requirement already satisfied: pyparsing>=2.0.2 in c:\\users\\jyama\\anaconda3\\lib\\site-packages (from packaging->tensorflow) (3.0.4)\n",
      "Note: you may need to restart the kernel to use updated packages.\n"
     ]
    }
   ],
   "source": [
    "pip install tensorflow\n"
   ]
  },
  {
   "cell_type": "code",
   "execution_count": null,
   "id": "3b20db77",
   "metadata": {},
   "outputs": [],
   "source": []
  },
  {
   "cell_type": "code",
   "execution_count": 2,
   "id": "9efc746c",
   "metadata": {},
   "outputs": [],
   "source": [
    "import pandas as pd\n",
    "import numpy as np\n",
    "import matplotlib.pyplot as plt\n",
    "from sklearn.preprocessing import MinMaxScaler\n",
    "from keras.models import Sequential\n",
    "from keras.layers import Dense, LSTM\n",
    "import pandas_datareader as web\n",
    "from datetime import date\n",
    "from datetime import datetime, timedelta, date"
   ]
  },
  {
   "cell_type": "code",
   "execution_count": 3,
   "id": "d51312c5",
   "metadata": {},
   "outputs": [
    {
     "data": {
      "text/html": [
       "<div>\n",
       "<style scoped>\n",
       "    .dataframe tbody tr th:only-of-type {\n",
       "        vertical-align: middle;\n",
       "    }\n",
       "\n",
       "    .dataframe tbody tr th {\n",
       "        vertical-align: top;\n",
       "    }\n",
       "\n",
       "    .dataframe thead th {\n",
       "        text-align: right;\n",
       "    }\n",
       "</style>\n",
       "<table border=\"1\" class=\"dataframe\">\n",
       "  <thead>\n",
       "    <tr style=\"text-align: right;\">\n",
       "      <th></th>\n",
       "      <th>High</th>\n",
       "      <th>Low</th>\n",
       "      <th>Open</th>\n",
       "      <th>Close</th>\n",
       "      <th>Volume</th>\n",
       "      <th>Adj Close</th>\n",
       "    </tr>\n",
       "    <tr>\n",
       "      <th>Date</th>\n",
       "      <th></th>\n",
       "      <th></th>\n",
       "      <th></th>\n",
       "      <th></th>\n",
       "      <th></th>\n",
       "      <th></th>\n",
       "    </tr>\n",
       "  </thead>\n",
       "  <tbody>\n",
       "    <tr>\n",
       "      <th>2021-06-29</th>\n",
       "      <td>136.490005</td>\n",
       "      <td>134.350006</td>\n",
       "      <td>134.800003</td>\n",
       "      <td>136.330002</td>\n",
       "      <td>64556100.0</td>\n",
       "      <td>135.555542</td>\n",
       "    </tr>\n",
       "    <tr>\n",
       "      <th>2021-06-30</th>\n",
       "      <td>137.410004</td>\n",
       "      <td>135.869995</td>\n",
       "      <td>136.169998</td>\n",
       "      <td>136.960007</td>\n",
       "      <td>63261400.0</td>\n",
       "      <td>136.181961</td>\n",
       "    </tr>\n",
       "    <tr>\n",
       "      <th>2021-07-01</th>\n",
       "      <td>137.330002</td>\n",
       "      <td>135.759995</td>\n",
       "      <td>136.600006</td>\n",
       "      <td>137.270004</td>\n",
       "      <td>52485800.0</td>\n",
       "      <td>136.490204</td>\n",
       "    </tr>\n",
       "    <tr>\n",
       "      <th>2021-07-02</th>\n",
       "      <td>140.000000</td>\n",
       "      <td>137.750000</td>\n",
       "      <td>137.899994</td>\n",
       "      <td>139.960007</td>\n",
       "      <td>78852600.0</td>\n",
       "      <td>139.164932</td>\n",
       "    </tr>\n",
       "    <tr>\n",
       "      <th>2021-07-06</th>\n",
       "      <td>143.149994</td>\n",
       "      <td>140.070007</td>\n",
       "      <td>140.070007</td>\n",
       "      <td>142.020004</td>\n",
       "      <td>108181800.0</td>\n",
       "      <td>141.213211</td>\n",
       "    </tr>\n",
       "    <tr>\n",
       "      <th>...</th>\n",
       "      <td>...</td>\n",
       "      <td>...</td>\n",
       "      <td>...</td>\n",
       "      <td>...</td>\n",
       "      <td>...</td>\n",
       "      <td>...</td>\n",
       "    </tr>\n",
       "    <tr>\n",
       "      <th>2022-06-23</th>\n",
       "      <td>138.589996</td>\n",
       "      <td>135.630005</td>\n",
       "      <td>136.820007</td>\n",
       "      <td>138.270004</td>\n",
       "      <td>72433800.0</td>\n",
       "      <td>138.270004</td>\n",
       "    </tr>\n",
       "    <tr>\n",
       "      <th>2022-06-24</th>\n",
       "      <td>141.910004</td>\n",
       "      <td>139.770004</td>\n",
       "      <td>139.899994</td>\n",
       "      <td>141.660004</td>\n",
       "      <td>89047400.0</td>\n",
       "      <td>141.660004</td>\n",
       "    </tr>\n",
       "    <tr>\n",
       "      <th>2022-06-27</th>\n",
       "      <td>143.490005</td>\n",
       "      <td>140.970001</td>\n",
       "      <td>142.699997</td>\n",
       "      <td>141.660004</td>\n",
       "      <td>70207900.0</td>\n",
       "      <td>141.660004</td>\n",
       "    </tr>\n",
       "    <tr>\n",
       "      <th>2022-06-28</th>\n",
       "      <td>143.419998</td>\n",
       "      <td>137.320007</td>\n",
       "      <td>142.130005</td>\n",
       "      <td>137.440002</td>\n",
       "      <td>67083400.0</td>\n",
       "      <td>137.440002</td>\n",
       "    </tr>\n",
       "    <tr>\n",
       "      <th>2022-06-29</th>\n",
       "      <td>140.669998</td>\n",
       "      <td>136.669998</td>\n",
       "      <td>137.460007</td>\n",
       "      <td>139.229996</td>\n",
       "      <td>66242411.0</td>\n",
       "      <td>139.229996</td>\n",
       "    </tr>\n",
       "  </tbody>\n",
       "</table>\n",
       "<p>253 rows × 6 columns</p>\n",
       "</div>"
      ],
      "text/plain": [
       "                  High         Low        Open       Close       Volume  \\\n",
       "Date                                                                      \n",
       "2021-06-29  136.490005  134.350006  134.800003  136.330002   64556100.0   \n",
       "2021-06-30  137.410004  135.869995  136.169998  136.960007   63261400.0   \n",
       "2021-07-01  137.330002  135.759995  136.600006  137.270004   52485800.0   \n",
       "2021-07-02  140.000000  137.750000  137.899994  139.960007   78852600.0   \n",
       "2021-07-06  143.149994  140.070007  140.070007  142.020004  108181800.0   \n",
       "...                ...         ...         ...         ...          ...   \n",
       "2022-06-23  138.589996  135.630005  136.820007  138.270004   72433800.0   \n",
       "2022-06-24  141.910004  139.770004  139.899994  141.660004   89047400.0   \n",
       "2022-06-27  143.490005  140.970001  142.699997  141.660004   70207900.0   \n",
       "2022-06-28  143.419998  137.320007  142.130005  137.440002   67083400.0   \n",
       "2022-06-29  140.669998  136.669998  137.460007  139.229996   66242411.0   \n",
       "\n",
       "             Adj Close  \n",
       "Date                    \n",
       "2021-06-29  135.555542  \n",
       "2021-06-30  136.181961  \n",
       "2021-07-01  136.490204  \n",
       "2021-07-02  139.164932  \n",
       "2021-07-06  141.213211  \n",
       "...                ...  \n",
       "2022-06-23  138.270004  \n",
       "2022-06-24  141.660004  \n",
       "2022-06-27  141.660004  \n",
       "2022-06-28  137.440002  \n",
       "2022-06-29  139.229996  \n",
       "\n",
       "[253 rows x 6 columns]"
      ]
     },
     "execution_count": 3,
     "metadata": {},
     "output_type": "execute_result"
    }
   ],
   "source": [
    "#get stock quote\n",
    "year_ago = str(date.today()-timedelta(days=365))\n",
    "today = str(date.today())\n",
    "ticker = 'AAPL'\n",
    "source = 'yahoo'\n",
    "df = web.DataReader(ticker, data_source = source, start = year_ago, end = today)\n",
    "df"
   ]
  },
  {
   "cell_type": "code",
   "execution_count": 4,
   "id": "825cb4d3",
   "metadata": {},
   "outputs": [
    {
     "data": {
      "text/plain": [
       "array([136.33000183, 136.96000671, 137.27000427, 139.96000671,\n",
       "       142.02000427, 144.57000732, 143.24000549, 145.11000061,\n",
       "       144.5       , 145.63999939, 149.1499939 , 148.47999573,\n",
       "       146.38999939, 142.44999695, 146.1499939 , 145.3999939 ,\n",
       "       146.80000305, 148.55999756, 148.99000549, 146.77000427,\n",
       "       144.97999573, 145.63999939, 145.86000061, 145.52000427,\n",
       "       147.36000061, 146.94999695, 147.05999756, 146.13999939,\n",
       "       146.08999634, 145.6000061 , 145.86000061, 148.88999939,\n",
       "       149.1000061 , 151.11999512, 150.19000244, 146.36000061,\n",
       "       146.69999695, 148.19000244, 149.71000671, 149.61999512,\n",
       "       148.36000061, 147.53999329, 148.6000061 , 153.11999512,\n",
       "       151.83000183, 152.50999451, 153.6499939 , 154.30000305,\n",
       "       156.69000244, 155.11000061, 154.07000732, 148.97000122,\n",
       "       149.55000305, 148.11999512, 149.02999878, 148.78999329,\n",
       "       146.05999756, 142.94000244, 143.42999268, 145.8500061 ,\n",
       "       146.83000183, 146.91999817, 145.36999512, 141.91000366,\n",
       "       142.83000183, 141.5       , 142.6499939 , 139.13999939,\n",
       "       141.11000061, 142.        , 143.28999329, 142.8999939 ,\n",
       "       142.80999756, 141.50999451, 140.91000366, 143.75999451,\n",
       "       144.83999634, 146.55000305, 148.75999451, 149.25999451,\n",
       "       149.47999573, 148.69000244, 148.63999939, 149.32000732,\n",
       "       148.8500061 , 152.57000732, 149.80000305, 148.96000671,\n",
       "       150.02000427, 151.49000549, 150.96000671, 151.27999878,\n",
       "       150.44000244, 150.80999756, 147.91999817, 147.86999512,\n",
       "       149.99000549, 150.        , 151.        , 153.49000549,\n",
       "       157.86999512, 160.55000305, 161.02000427, 161.41000366,\n",
       "       161.94000244, 156.80999756, 160.24000549, 165.30000305,\n",
       "       164.77000427, 163.75999451, 161.83999634, 165.32000732,\n",
       "       171.17999268, 175.08000183, 174.55999756, 179.44999695,\n",
       "       175.74000549, 174.33000183, 179.30000305, 172.25999451,\n",
       "       171.13999939, 169.75      , 172.99000549, 175.63999939,\n",
       "       176.27999878, 180.33000183, 179.28999329, 179.38000488,\n",
       "       178.19999695, 177.57000732, 182.00999451, 179.69999695,\n",
       "       174.91999817, 172.        , 172.16999817, 172.19000244,\n",
       "       175.08000183, 175.52999878, 172.19000244, 173.07000732,\n",
       "       169.80000305, 166.22999573, 164.50999451, 162.41000366,\n",
       "       161.61999512, 159.77999878, 159.69000244, 159.22000122,\n",
       "       170.33000183, 174.77999878, 174.61000061, 175.83999634,\n",
       "       172.8999939 , 172.38999939, 171.66000366, 174.83000183,\n",
       "       176.27999878, 172.11999512, 168.63999939, 168.88000488,\n",
       "       172.78999329, 172.55000305, 168.88000488, 167.30000305,\n",
       "       164.32000732, 160.07000732, 162.74000549, 164.8500061 ,\n",
       "       165.11999512, 163.19999695, 166.55999756, 166.22999573,\n",
       "       163.16999817, 159.30000305, 157.44000244, 162.94999695,\n",
       "       158.52000427, 154.72999573, 150.61999512, 155.08999634,\n",
       "       159.58999634, 160.61999512, 163.97999573, 165.38000488,\n",
       "       168.82000732, 170.21000671, 174.07000732, 174.72000122,\n",
       "       175.6000061 , 178.96000671, 177.77000427, 174.61000061,\n",
       "       174.30999756, 178.44000244, 175.05999756, 171.83000183,\n",
       "       172.13999939, 170.08999634, 165.75      , 167.66000366,\n",
       "       170.3999939 , 165.28999329, 165.07000732, 167.3999939 ,\n",
       "       167.22999573, 166.41999817, 161.78999329, 162.88000488,\n",
       "       156.80000305, 156.57000732, 163.63999939, 157.6499939 ,\n",
       "       157.96000671, 159.47999573, 166.02000427, 156.77000427,\n",
       "       157.27999878, 152.05999756, 154.50999451, 146.5       ,\n",
       "       142.55999756, 147.11000061, 145.53999329, 149.24000549,\n",
       "       140.82000732, 137.3500061 , 137.58999634, 143.11000061,\n",
       "       140.36000061, 140.52000427, 143.77999878, 149.63999939,\n",
       "       148.83999634, 148.71000671, 151.21000671, 145.38000488,\n",
       "       146.13999939, 148.71000671, 147.96000671, 142.63999939,\n",
       "       137.13000488, 131.88000488, 132.75999451, 135.42999268,\n",
       "       130.05999756, 131.55999756, 135.86999512, 135.3500061 ,\n",
       "       138.27000427, 141.66000366, 141.66000366, 137.44000244,\n",
       "       139.22999573])"
      ]
     },
     "execution_count": 4,
     "metadata": {},
     "output_type": "execute_result"
    }
   ],
   "source": [
    "ran = df.values\n",
    "ran[:,3]"
   ]
  },
  {
   "cell_type": "code",
   "execution_count": 5,
   "id": "82ba78ce",
   "metadata": {},
   "outputs": [
    {
     "data": {
      "text/plain": [
       "(253, 6)"
      ]
     },
     "execution_count": 5,
     "metadata": {},
     "output_type": "execute_result"
    }
   ],
   "source": [
    "#get number of rows and columns\n",
    "df.shape"
   ]
  },
  {
   "cell_type": "code",
   "execution_count": 6,
   "id": "5b7635a3",
   "metadata": {},
   "outputs": [
    {
     "data": {
      "text/plain": [
       "Text(0, 0.5, 'Price')"
      ]
     },
     "execution_count": 6,
     "metadata": {},
     "output_type": "execute_result"
    },
    {
     "data": {
      "image/png": "[encoded data removed]",
      "text/plain": [
       "<Figure size 1152x576 with 1 Axes>"
      ]
     },
     "metadata": {
      "needs_background": "light"
     },
     "output_type": "display_data"
    }
   ],
   "source": [
    "#visualize\n",
    "plt.figure(figsize =(16,8))\n",
    "plt.title('Close Price')\n",
    "plt.plot(df['Close'])\n",
    "plt.xlabel('Data', fontsize = 18)\n",
    "plt.ylabel('Price', fontsize = 18)"
   ]
  },
  {
   "cell_type": "code",
   "execution_count": 7,
   "id": "8fa630c4",
   "metadata": {},
   "outputs": [],
   "source": [
    "#create X and Y dataframes\n",
    "X = pd.DataFrame(df.drop(columns = ['Close']))\n",
    "y = pd.DataFrame(df['Close'])"
   ]
  },
  {
   "cell_type": "code",
   "execution_count": 8,
   "id": "9c2839c6",
   "metadata": {},
   "outputs": [
    {
     "data": {
      "text/html": [
       "<div>\n",
       "<style scoped>\n",
       "    .dataframe tbody tr th:only-of-type {\n",
       "        vertical-align: middle;\n",
       "    }\n",
       "\n",
       "    .dataframe tbody tr th {\n",
       "        vertical-align: top;\n",
       "    }\n",
       "\n",
       "    .dataframe thead th {\n",
       "        text-align: right;\n",
       "    }\n",
       "</style>\n",
       "<table border=\"1\" class=\"dataframe\">\n",
       "  <thead>\n",
       "    <tr style=\"text-align: right;\">\n",
       "      <th></th>\n",
       "      <th>High</th>\n",
       "      <th>Low</th>\n",
       "      <th>Open</th>\n",
       "      <th>Volume</th>\n",
       "      <th>Adj Close</th>\n",
       "    </tr>\n",
       "    <tr>\n",
       "      <th>Date</th>\n",
       "      <th></th>\n",
       "      <th></th>\n",
       "      <th></th>\n",
       "      <th></th>\n",
       "      <th></th>\n",
       "    </tr>\n",
       "  </thead>\n",
       "  <tbody>\n",
       "    <tr>\n",
       "      <th>2021-06-29</th>\n",
       "      <td>136.490005</td>\n",
       "      <td>134.350006</td>\n",
       "      <td>134.800003</td>\n",
       "      <td>64556100.0</td>\n",
       "      <td>135.555542</td>\n",
       "    </tr>\n",
       "    <tr>\n",
       "      <th>2021-06-30</th>\n",
       "      <td>137.410004</td>\n",
       "      <td>135.869995</td>\n",
       "      <td>136.169998</td>\n",
       "      <td>63261400.0</td>\n",
       "      <td>136.181961</td>\n",
       "    </tr>\n",
       "    <tr>\n",
       "      <th>2021-07-01</th>\n",
       "      <td>137.330002</td>\n",
       "      <td>135.759995</td>\n",
       "      <td>136.600006</td>\n",
       "      <td>52485800.0</td>\n",
       "      <td>136.490204</td>\n",
       "    </tr>\n",
       "    <tr>\n",
       "      <th>2021-07-02</th>\n",
       "      <td>140.000000</td>\n",
       "      <td>137.750000</td>\n",
       "      <td>137.899994</td>\n",
       "      <td>78852600.0</td>\n",
       "      <td>139.164932</td>\n",
       "    </tr>\n",
       "    <tr>\n",
       "      <th>2021-07-06</th>\n",
       "      <td>143.149994</td>\n",
       "      <td>140.070007</td>\n",
       "      <td>140.070007</td>\n",
       "      <td>108181800.0</td>\n",
       "      <td>141.213211</td>\n",
       "    </tr>\n",
       "    <tr>\n",
       "      <th>...</th>\n",
       "      <td>...</td>\n",
       "      <td>...</td>\n",
       "      <td>...</td>\n",
       "      <td>...</td>\n",
       "      <td>...</td>\n",
       "    </tr>\n",
       "    <tr>\n",
       "      <th>2022-06-23</th>\n",
       "      <td>138.589996</td>\n",
       "      <td>135.630005</td>\n",
       "      <td>136.820007</td>\n",
       "      <td>72433800.0</td>\n",
       "      <td>138.270004</td>\n",
       "    </tr>\n",
       "    <tr>\n",
       "      <th>2022-06-24</th>\n",
       "      <td>141.910004</td>\n",
       "      <td>139.770004</td>\n",
       "      <td>139.899994</td>\n",
       "      <td>89047400.0</td>\n",
       "      <td>141.660004</td>\n",
       "    </tr>\n",
       "    <tr>\n",
       "      <th>2022-06-27</th>\n",
       "      <td>143.490005</td>\n",
       "      <td>140.970001</td>\n",
       "      <td>142.699997</td>\n",
       "      <td>70207900.0</td>\n",
       "      <td>141.660004</td>\n",
       "    </tr>\n",
       "    <tr>\n",
       "      <th>2022-06-28</th>\n",
       "      <td>143.419998</td>\n",
       "      <td>137.320007</td>\n",
       "      <td>142.130005</td>\n",
       "      <td>67083400.0</td>\n",
       "      <td>137.440002</td>\n",
       "    </tr>\n",
       "    <tr>\n",
       "      <th>2022-06-29</th>\n",
       "      <td>140.669998</td>\n",
       "      <td>136.669998</td>\n",
       "      <td>137.460007</td>\n",
       "      <td>66242411.0</td>\n",
       "      <td>139.229996</td>\n",
       "    </tr>\n",
       "  </tbody>\n",
       "</table>\n",
       "<p>253 rows × 5 columns</p>\n",
       "</div>"
      ],
      "text/plain": [
       "                  High         Low        Open       Volume   Adj Close\n",
       "Date                                                                   \n",
       "2021-06-29  136.490005  134.350006  134.800003   64556100.0  135.555542\n",
       "2021-06-30  137.410004  135.869995  136.169998   63261400.0  136.181961\n",
       "2021-07-01  137.330002  135.759995  136.600006   52485800.0  136.490204\n",
       "2021-07-02  140.000000  137.750000  137.899994   78852600.0  139.164932\n",
       "2021-07-06  143.149994  140.070007  140.070007  108181800.0  141.213211\n",
       "...                ...         ...         ...          ...         ...\n",
       "2022-06-23  138.589996  135.630005  136.820007   72433800.0  138.270004\n",
       "2022-06-24  141.910004  139.770004  139.899994   89047400.0  141.660004\n",
       "2022-06-27  143.490005  140.970001  142.699997   70207900.0  141.660004\n",
       "2022-06-28  143.419998  137.320007  142.130005   67083400.0  137.440002\n",
       "2022-06-29  140.669998  136.669998  137.460007   66242411.0  139.229996\n",
       "\n",
       "[253 rows x 5 columns]"
      ]
     },
     "execution_count": 8,
     "metadata": {},
     "output_type": "execute_result"
    }
   ],
   "source": [
    "X"
   ]
  },
  {
   "cell_type": "code",
   "execution_count": 9,
   "id": "29c4b144",
   "metadata": {},
   "outputs": [],
   "source": [
    "import math\n",
    "#create new dataframe with only close\n",
    "\n",
    "#convert dataframe in numpy array\n",
    "X = X.values\n",
    "y = y.values\n",
    "#get number of rows to train our model on\n",
    "training_data_len = math.ceil(X.shape[0]*.8)"
   ]
  },
  {
   "cell_type": "code",
   "execution_count": 10,
   "id": "fb75cf85",
   "metadata": {},
   "outputs": [
    {
     "data": {
      "text/plain": [
       "203"
      ]
     },
     "execution_count": 10,
     "metadata": {},
     "output_type": "execute_result"
    }
   ],
   "source": [
    "training_data_len\n"
   ]
  },
  {
   "cell_type": "code",
   "execution_count": 11,
   "id": "294cc699",
   "metadata": {},
   "outputs": [
    {
     "data": {
      "text/plain": [
       "array([[0.08110793, 0.1060306 , 0.08999231, 0.15253311, 0.10680976],\n",
       "       [0.09930769, 0.13638182, 0.11605767, 0.14414952, 0.11898466],\n",
       "       [0.09772507, 0.13418532, 0.12423895, 0.07437414, 0.12497557],\n",
       "       ...,\n",
       "       [0.21958468, 0.238219  , 0.24029662, 0.18913028, 0.22545426],\n",
       "       [0.21819976, 0.16533574, 0.22945202, 0.16889817, 0.14343557],\n",
       "       [0.16379819, 0.15235632, 0.14060121, 0.1634525 , 0.17822535]])"
      ]
     },
     "execution_count": 11,
     "metadata": {},
     "output_type": "execute_result"
    }
   ],
   "source": [
    "#scale data\n",
    "scaler = MinMaxScaler(feature_range = (0,1))\n",
    "scaled_data = scaler.fit_transform(X)\n",
    "scaled_y = scaler.fit_transform(y)\n",
    "scaled_data"
   ]
  },
  {
   "cell_type": "code",
   "execution_count": 12,
   "id": "8efbdead",
   "metadata": {},
   "outputs": [
    {
     "data": {
      "text/plain": [
       "(253, 5)"
      ]
     },
     "execution_count": 12,
     "metadata": {},
     "output_type": "execute_result"
    }
   ],
   "source": [
    "scaled_data.shape"
   ]
  },
  {
   "cell_type": "code",
   "execution_count": 13,
   "id": "3fe99746",
   "metadata": {},
   "outputs": [
    {
     "data": {
      "text/plain": [
       "(253, 1)"
      ]
     },
     "execution_count": 13,
     "metadata": {},
     "output_type": "execute_result"
    }
   ],
   "source": [
    "scaled_y.shape"
   ]
  },
  {
   "cell_type": "code",
   "execution_count": 14,
   "id": "bb2588ef",
   "metadata": {},
   "outputs": [
    {
     "name": "stdout",
     "output_type": "stream",
     "text": [
      "[array([0.08110793, 0.1060306 , 0.08999231, 0.15253311, 0.10680976,\n",
      "       0.09930769, 0.13638182, 0.11605767, 0.14414952, 0.11898466,\n",
      "       0.09772507, 0.13418532, 0.12423895, 0.07437414, 0.12497557,\n",
      "       0.15054402, 0.17392185, 0.14897235, 0.24510742, 0.17696079,\n",
      "       0.21285843, 0.22024788, 0.19025876, 0.43502315, 0.21677053,\n",
      "       0.24727991, 0.27196505, 0.25627828, 0.41384759, 0.26605019,\n",
      "       0.23086048, 0.23222852, 0.21898773, 0.41814655, 0.24034747,\n",
      "       0.26231442, 0.27176518, 0.24124797, 0.38133634, 0.27648602,\n",
      "       0.27556888, 0.29872217, 0.30707763, 0.22857659, 0.26469726,\n",
      "       0.2981208 , 0.29133409, 0.26560107, 0.38739917, 0.2867282 ,\n",
      "       0.33986166, 0.37220445, 0.34303652, 0.55720582, 0.35455979,\n",
      "       0.34836794, 0.36042337, 0.36472601, 0.42620701, 0.34161205,\n",
      "       0.34362006, 0.3362622 , 0.34988585, 0.33834415, 0.30122194,\n",
      "       0.2310585 , 0.25219657, 0.26027385, 0.52083917, 0.22508029,\n",
      "       0.29099913, 0.27795553, 0.25475647, 0.35840855, 0.29658395,\n",
      "       0.27181018, 0.31130214, 0.29413988, 0.22011854, 0.28208992,\n",
      "       0.31275958, 0.33486429, 0.30194056, 0.2353012 , 0.30914527,\n",
      "       0.32304651, 0.35702884, 0.33257223, 0.19715643, 0.34315775,\n",
      "       0.34500497, 0.37260389, 0.34627089, 0.20354562, 0.35146781,\n",
      "       0.33273999, 0.32967271, 0.36244271, 0.41324538, 0.30856578,\n",
      "       0.28842732, 0.26956868, 0.28044123, 0.50462888, 0.27397322,\n",
      "       0.28011875, 0.31030367, 0.27815822, 0.10165917, 0.2867282 ,\n",
      "       0.2757666 , 0.30091867, 0.27226024, 0.19063709, 0.29097946,\n",
      "       0.28803159, 0.32368223, 0.30993139, 0.14167984, 0.28440965,\n",
      "       0.30959432, 0.32228432, 0.2994671 , 0.15402567, 0.31996753,\n",
      "       0.30464872, 0.3442493 , 0.32724501, 0.09951455, 0.31204449,\n",
      "       0.3056379 , 0.3420528 , 0.32172734, 0.03495179, 0.31417027,\n",
      "       0.29119684, 0.33127019, 0.30974124, 0.08500013, 0.30062199,\n",
      "       0.28308599, 0.32907369, 0.30688718, 0.0512113 , 0.29965429,\n",
      "       0.3030664 , 0.32468069, 0.3114535 , 0.18145833, 0.29017103,\n",
      "       0.28348172, 0.32927326, 0.30403342, 0.04852275, 0.29520285,\n",
      "       0.32957473, 0.33546331, 0.30669703, 0.20256461, 0.35384626,\n",
      "       0.33728985, 0.38398583, 0.35958894, 0.11898387, 0.35791098,\n",
      "       0.37190904, 0.34804328, 0.35140766, 0.40338607, 0.39700629,\n",
      "       0.38160222, 0.40035947, 0.38356144, 0.33172832, 0.37900715,\n",
      "       0.36261129, 0.34165335, 0.37538045, 0.29350002, 0.30488007,\n",
      "       0.30880316, 0.30870619, 0.28462694, 0.29760731, 0.31146056,\n",
      "       0.31869435, 0.35423332, 0.33047937, 0.12658977, 0.34029856,\n",
      "       0.35212665, 0.37639787, 0.34703179, 0.12388438, 0.36971725,\n",
      "       0.36538081, 0.40155751, 0.36872128, 0.04925382, 0.36797492,\n",
      "       0.35469845, 0.37460082, 0.37557061, 0.11649929, 0.34358836,\n",
      "       0.33095934, 0.36880992, 0.34779299, 0.04919424, 0.32771827,\n",
      "       0.32363995, 0.35523179, 0.33124028, 0.09585017, 0.34823376,\n",
      "       0.4174086 , 0.39077489, 0.36015969, 0.32348525, 0.43571488,\n",
      "       0.4037587 , 0.44428912, 0.42979447, 0.29432303, 0.41074794,\n",
      "       0.44688417, 0.46525563, 0.43302883, 0.25456849, 0.42390862,\n",
      "       0.44174086, 0.46645367, 0.45281562, 0.19500728, 0.44597218,\n",
      "       0.43996052, 0.48023167, 0.45072276, 0.10884159, 0.45855278,\n",
      "       0.491988  , 0.5061902 , 0.4737442 , 0.26728989, 0.50480955,\n",
      "       0.48763585, 0.49800323, 0.5119861 , 0.21640624, 0.47422981,\n",
      "       0.46923837, 0.49740421, 0.48363773, 0.1055845 , 0.45410163,\n",
      "       0.45677537, 0.39257194, 0.47431495, 0.64683969, 0.35539492,\n",
      "       0.3764589 , 0.39357041, 0.39117197, 0.39761203, 0.36662021,\n",
      "       0.36953525, 0.35682927, 0.38584474, 0.44223989, 0.33894326,\n",
      "       0.33728985, 0.34604635, 0.35178826, 0.27378463, 0.35655598,\n",
      "       0.3279921 , 0.36301931, 0.34950525, 0.17505425, 0.35191087,\n",
      "       0.32502487, 0.33386583, 0.35673518, 0.57545326, 0.29907392,\n",
      "       0.24629073, 0.24420948, 0.2612252 , 0.53407666, 0.23868878,\n",
      "       0.24154314, 0.27436112, 0.26369836, 0.22556104, 0.24817205,\n",
      "       0.27774466, 0.29273169, 0.2735919 , 0.22925391, 0.29500949])]\n",
      "[array([0.3228105])]\n",
      "\n"
     ]
    }
   ],
   "source": [
    "#create the training dataset\n",
    "\n",
    "#create scaled data\n",
    "X = scaled_data[0:training_data_len, :]\n",
    "Y = scaled_y[0:training_data_len, :]\n",
    "#split data into X_train and y_train\n",
    "X_train = []\n",
    "y_train = []\n",
    "for i in range(60, len(X)):\n",
    "    X_train.append(X[i-60:i, :].ravel())\n",
    "    y_train.append(Y[i, :])\n",
    "    if i<=60:\n",
    "        print(X_train)\n",
    "        print(y_train)\n",
    "        print()\n"
   ]
  },
  {
   "cell_type": "code",
   "execution_count": 15,
   "id": "e6e0ff02",
   "metadata": {},
   "outputs": [
    {
     "data": {
      "text/plain": [
       "[array([0.3228105]),\n",
       " array([0.32454286]),\n",
       " array([0.29470642]),\n",
       " array([0.22810408]),\n",
       " array([0.24581338]),\n",
       " array([0.2202118]),\n",
       " array([0.24234836]),\n",
       " array([0.17478349]),\n",
       " array([0.21270459]),\n",
       " array([0.22983644]),\n",
       " array([0.25466788]),\n",
       " array([0.24716068]),\n",
       " array([0.24542831]),\n",
       " array([0.22040419]),\n",
       " array([0.2088548]),\n",
       " array([0.26371507]),\n",
       " array([0.28450432]),\n",
       " array([0.31742072]),\n",
       " array([0.35996146]),\n",
       " array([0.3695861]),\n",
       " array([0.37382097]),\n",
       " array([0.35861417]),\n",
       " array([0.35765164]),\n",
       " array([0.37074131]),\n",
       " array([0.36169412]),\n",
       " array([0.43330146]),\n",
       " array([0.37998088]),\n",
       " array([0.36381155]),\n",
       " array([0.38421574]),\n",
       " array([0.41251221]),\n",
       " array([0.40231011]),\n",
       " array([0.40846973]),\n",
       " array([0.39230041]),\n",
       " array([0.39942255]),\n",
       " array([0.34379214]),\n",
       " array([0.34282962]),\n",
       " array([0.38363829]),\n",
       " array([0.38383068]),\n",
       " array([0.40307996]),\n",
       " array([0.45101077]),\n",
       " array([0.53532241]),\n",
       " array([0.58691063]),\n",
       " array([0.59595782]),\n",
       " array([0.60346502]),\n",
       " array([0.61366712]),\n",
       " array([0.51491822]),\n",
       " array([0.5809434]),\n",
       " array([0.67834471]),\n",
       " array([0.66814261]),\n",
       " array([0.64870065]),\n",
       " array([0.61174207]),\n",
       " array([0.67872978]),\n",
       " array([0.79153027]),\n",
       " array([0.86660264]),\n",
       " array([0.85659293]),\n",
       " array([0.95072189]),\n",
       " array([0.87930723]),\n",
       " array([0.85216568]),\n",
       " array([0.94783462]),\n",
       " array([0.81231953]),\n",
       " array([0.79076043]),\n",
       " array([0.76400394]),\n",
       " array([0.82637171]),\n",
       " array([0.87738218]),\n",
       " array([0.88970171]),\n",
       " array([0.96766135]),\n",
       " array([0.94764194]),\n",
       " array([0.9493746]),\n",
       " array([0.92666029]),\n",
       " array([0.91453345]),\n",
       " array([1.]),\n",
       " array([0.95553421]),\n",
       " array([0.86352268]),\n",
       " array([0.80731482]),\n",
       " array([0.81058716]),\n",
       " array([0.81097223]),\n",
       " array([0.86660264]),\n",
       " array([0.87526475]),\n",
       " array([0.81097223]),\n",
       " array([0.82791169]),\n",
       " array([0.76496646]),\n",
       " array([0.6962464]),\n",
       " array([0.66313761]),\n",
       " array([0.6227143]),\n",
       " array([0.60750721]),\n",
       " array([0.5720886]),\n",
       " array([0.57035624]),\n",
       " array([0.56130905]),\n",
       " array([0.77516856]),\n",
       " array([0.86082779]),\n",
       " array([0.85755545]),\n",
       " array([0.88123198]),\n",
       " array([0.82463905]),\n",
       " array([0.81482203]),\n",
       " array([0.80077014]),\n",
       " array([0.86179032]),\n",
       " array([0.88970171]),\n",
       " array([0.80962464]),\n",
       " array([0.74263723]),\n",
       " array([0.74725716]),\n",
       " array([0.82252162]),\n",
       " array([0.81790198]),\n",
       " array([0.74725716]),\n",
       " array([0.71684327]),\n",
       " array([0.6594805]),\n",
       " array([0.57767106]),\n",
       " array([0.6290666]),\n",
       " array([0.66968259]),\n",
       " array([0.67487968]),\n",
       " array([0.6379211]),\n",
       " array([0.70259869]),\n",
       " array([0.6962464]),\n",
       " array([0.63734365]),\n",
       " array([0.56284903]),\n",
       " array([0.52704536]),\n",
       " array([0.63310878]),\n",
       " array([0.54783462]),\n",
       " array([0.47487968]),\n",
       " array([0.39576514]),\n",
       " array([0.48180944]),\n",
       " array([0.56843119]),\n",
       " array([0.58825793]),\n",
       " array([0.65293552]),\n",
       " array([0.67988469]),\n",
       " array([0.74610225]),\n",
       " array([0.77285874]),\n",
       " array([0.84716097]),\n",
       " array([0.85967288]),\n",
       " array([0.87661234]),\n",
       " array([0.94128993]),\n",
       " array([0.91838324]),\n",
       " array([0.85755545]),\n",
       " array([0.85178061]),\n",
       " array([0.93128023]),\n",
       " array([0.86621757]),\n",
       " array([0.80404248]),\n",
       " array([0.81000971]),\n",
       " array([0.77054863]),\n",
       " array([0.68700682]),\n",
       " array([0.72377302]),\n",
       " array([0.77651586]),\n",
       " array([0.67815203]),\n",
       " array([0.67391746])]"
      ]
     },
     "execution_count": 15,
     "metadata": {},
     "output_type": "execute_result"
    }
   ],
   "source": [
    "y_train"
   ]
  },
  {
   "cell_type": "code",
   "execution_count": 16,
   "id": "e3b5fa03",
   "metadata": {},
   "outputs": [],
   "source": [
    "#convert x_train and Y_train to numpy arrays\n",
    "X_train, y_train = np.array(X_train), np.array(y_train)"
   ]
  },
  {
   "cell_type": "code",
   "execution_count": 17,
   "id": "48b988b3",
   "metadata": {},
   "outputs": [
    {
     "data": {
      "text/plain": [
       "(143, 300)"
      ]
     },
     "execution_count": 17,
     "metadata": {},
     "output_type": "execute_result"
    }
   ],
   "source": [
    "X_train.shape"
   ]
  },
  {
   "cell_type": "code",
   "execution_count": 18,
   "id": "c1ee2a6d",
   "metadata": {},
   "outputs": [],
   "source": [
    "#reshape x_train\n",
    "X_train = np.reshape(X_train, (X_train.shape[0],X_train.shape[1], 1))"
   ]
  },
  {
   "cell_type": "code",
   "execution_count": 19,
   "id": "9fc080af",
   "metadata": {},
   "outputs": [],
   "source": [
    "#build LSTM model\n",
    "model = Sequential()\n",
    "model.add(LSTM(50, return_sequences = True, input_shape = (X_train.shape[1],1)))\n",
    "model.add(LSTM(50, return_sequences = False ))\n",
    "model.add(Dense(25))\n",
    "model.add(Dense(1))"
   ]
  },
  {
   "cell_type": "code",
   "execution_count": 20,
   "id": "21c4b359",
   "metadata": {},
   "outputs": [],
   "source": [
    "#compile model\n",
    "model.compile(optimizer = 'adam', loss = 'mean_squared_error')"
   ]
  },
  {
   "cell_type": "code",
   "execution_count": 21,
   "id": "bc49f757",
   "metadata": {},
   "outputs": [
    {
     "name": "stdout",
     "output_type": "stream",
     "text": [
      "143/143 [==============================] - 17s 100ms/step - loss: 0.0402\n"
     ]
    },
    {
     "data": {
      "text/plain": [
       "<keras.callbacks.History at 0x1e1452608b0>"
      ]
     },
     "execution_count": 21,
     "metadata": {},
     "output_type": "execute_result"
    }
   ],
   "source": [
    "#train model\n",
    "model.fit(X_train, y_train, batch_size = 1, epochs = 1)"
   ]
  },
  {
   "cell_type": "code",
   "execution_count": null,
   "id": "da3ea9ed",
   "metadata": {},
   "outputs": [],
   "source": [
    "\n"
   ]
  },
  {
   "cell_type": "code",
   "execution_count": 22,
   "id": "75d40e36",
   "metadata": {},
   "outputs": [],
   "source": [
    "#create testing dataset\n",
    "test_data = scaled_data[training_data_len-60: , :]\n",
    "#create x_test, y_test\n",
    "X_test =[]\n",
    "y_test = y[training_data_len:,]\n",
    "for i in range(60, len(test_data)):\n",
    "    X_test.append(test_data[i-60:i,:].ravel())"
   ]
  },
  {
   "cell_type": "code",
   "execution_count": 23,
   "id": "9f269ac4",
   "metadata": {},
   "outputs": [
    {
     "data": {
      "text/plain": [
       "array([[167.3999939 ],\n",
       "       [167.22999573],\n",
       "       [166.41999817],\n",
       "       [161.78999329],\n",
       "       [162.88000488],\n",
       "       [156.80000305],\n",
       "       [156.57000732],\n",
       "       [163.63999939],\n",
       "       [157.6499939 ],\n",
       "       [157.96000671],\n",
       "       [159.47999573],\n",
       "       [166.02000427],\n",
       "       [156.77000427],\n",
       "       [157.27999878],\n",
       "       [152.05999756],\n",
       "       [154.50999451],\n",
       "       [146.5       ],\n",
       "       [142.55999756],\n",
       "       [147.11000061],\n",
       "       [145.53999329],\n",
       "       [149.24000549],\n",
       "       [140.82000732],\n",
       "       [137.3500061 ],\n",
       "       [137.58999634],\n",
       "       [143.11000061],\n",
       "       [140.36000061],\n",
       "       [140.52000427],\n",
       "       [143.77999878],\n",
       "       [149.63999939],\n",
       "       [148.83999634],\n",
       "       [148.71000671],\n",
       "       [151.21000671],\n",
       "       [145.38000488],\n",
       "       [146.13999939],\n",
       "       [148.71000671],\n",
       "       [147.96000671],\n",
       "       [142.63999939],\n",
       "       [137.13000488],\n",
       "       [131.88000488],\n",
       "       [132.75999451],\n",
       "       [135.42999268],\n",
       "       [130.05999756],\n",
       "       [131.55999756],\n",
       "       [135.86999512],\n",
       "       [135.3500061 ],\n",
       "       [138.27000427],\n",
       "       [141.66000366],\n",
       "       [141.66000366],\n",
       "       [137.44000244],\n",
       "       [139.22999573]])"
      ]
     },
     "execution_count": 23,
     "metadata": {},
     "output_type": "execute_result"
    }
   ],
   "source": [
    "y_test"
   ]
  },
  {
   "cell_type": "code",
   "execution_count": 24,
   "id": "7a198c40",
   "metadata": {},
   "outputs": [
    {
     "data": {
      "text/plain": [
       "array([[0.67141445, 0.66413755, 0.65353867, ..., 0.64402573, 0.18146351,\n",
       "        0.67573731],\n",
       "       [0.59169143, 0.51238025, 0.56982493, ..., 0.66495431, 0.17304496,\n",
       "        0.72095581],\n",
       "       [0.60079116, 0.55870627, 0.55003786, ..., 0.7361109 , 0.17437887,\n",
       "        0.71765652],\n",
       "       ...,\n",
       "       [0.9341246 , 0.95167735, 0.92237439, ..., 0.18702411, 0.31112193,\n",
       "        0.22545426],\n",
       "       [0.90286838, 0.90575078, 0.90886589, ..., 0.24029662, 0.18913028,\n",
       "        0.22545426],\n",
       "       [0.84055396, 0.85662954, 0.83637735, ..., 0.22945202, 0.16889817,\n",
       "        0.14343557]])"
      ]
     },
     "execution_count": 24,
     "metadata": {},
     "output_type": "execute_result"
    }
   ],
   "source": [
    "#convert data to a numpy array\n",
    "X_test = np.array(X_test)\n",
    "X_test"
   ]
  },
  {
   "cell_type": "code",
   "execution_count": 25,
   "id": "2e3b2149",
   "metadata": {},
   "outputs": [
    {
     "data": {
      "text/plain": [
       "(50, 300, 1)"
      ]
     },
     "execution_count": 25,
     "metadata": {},
     "output_type": "execute_result"
    }
   ],
   "source": [
    "#reshape data\n",
    "X_test = np.reshape(X_test, (X_test.shape[0], X_test.shape[1],1))\n",
    "X_test.shape"
   ]
  },
  {
   "cell_type": "code",
   "execution_count": 26,
   "id": "2933fd72",
   "metadata": {},
   "outputs": [
    {
     "name": "stdout",
     "output_type": "stream",
     "text": [
      "2/2 [==============================] - 1s 42ms/step\n"
     ]
    }
   ],
   "source": [
    "#get models predicted price values\n",
    "predictions = model.predict(X_test)\n",
    "predictions = scaler.inverse_transform(predictions)\n"
   ]
  },
  {
   "cell_type": "code",
   "execution_count": 27,
   "id": "fb46e9eb",
   "metadata": {},
   "outputs": [
    {
     "data": {
      "text/plain": [
       "6.583667602539062"
      ]
     },
     "execution_count": 27,
     "metadata": {},
     "output_type": "execute_result"
    }
   ],
   "source": [
    "#getting the root mean squared error\n",
    "rmse = np.sqrt(np.mean(predictions-y_test)**2)\n",
    "rmse"
   ]
  },
  {
   "cell_type": "code",
   "execution_count": 28,
   "id": "a74e649a",
   "metadata": {},
   "outputs": [
    {
     "name": "stderr",
     "output_type": "stream",
     "text": [
      "C:\\Users\\jyama\\AppData\\Local\\Temp/ipykernel_3500/1476690831.py:5: SettingWithCopyWarning: \n",
      "A value is trying to be set on a copy of a slice from a DataFrame.\n",
      "Try using .loc[row_indexer,col_indexer] = value instead\n",
      "\n",
      "See the caveats in the documentation: https://pandas.pydata.org/pandas-docs/stable/user_guide/indexing.html#returning-a-view-versus-a-copy\n",
      "  valid['Predictions'] = predictions\n"
     ]
    },
    {
     "data": {
      "text/plain": [
       "<matplotlib.legend.Legend at 0x1e14ab96b80>"
      ]
     },
     "execution_count": 28,
     "metadata": {},
     "output_type": "execute_result"
    },
    {
     "data": {
      "image/png": "[encoded data removed]",
      "text/plain": [
       "<Figure size 1152x576 with 1 Axes>"
      ]
     },
     "metadata": {
      "needs_background": "light"
     },
     "output_type": "display_data"
    }
   ],
   "source": [
    "#plot data\n",
    "data = df.filter(['Close'])\n",
    "train= data[0:training_data_len]\n",
    "valid = data[training_data_len :]\n",
    "valid['Predictions'] = predictions\n",
    "\n",
    "#visualize\n",
    "plt.figure(figsize = (16,8))\n",
    "plt.title('Model')\n",
    "plt.xlabel('Date', fontsize = 18)\n",
    "plt.ylabel('Close', fontsize = 18)\n",
    "plt.plot(train['Close'])\n",
    "plt.plot(valid[['Close','Predictions']])\n",
    "plt.legend(['Train', 'Valid', 'Predictions'], loc='lower right')"
   ]
  },
  {
   "cell_type": "code",
   "execution_count": 29,
   "id": "a9b95d93",
   "metadata": {},
   "outputs": [
    {
     "data": {
      "text/html": [
       "<div>\n",
       "<style scoped>\n",
       "    .dataframe tbody tr th:only-of-type {\n",
       "        vertical-align: middle;\n",
       "    }\n",
       "\n",
       "    .dataframe tbody tr th {\n",
       "        vertical-align: top;\n",
       "    }\n",
       "\n",
       "    .dataframe thead th {\n",
       "        text-align: right;\n",
       "    }\n",
       "</style>\n",
       "<table border=\"1\" class=\"dataframe\">\n",
       "  <thead>\n",
       "    <tr style=\"text-align: right;\">\n",
       "      <th></th>\n",
       "      <th>Close</th>\n",
       "      <th>Predictions</th>\n",
       "    </tr>\n",
       "    <tr>\n",
       "      <th>Date</th>\n",
       "      <th></th>\n",
       "      <th></th>\n",
       "    </tr>\n",
       "  </thead>\n",
       "  <tbody>\n",
       "    <tr>\n",
       "      <th>2022-04-19</th>\n",
       "      <td>167.399994</td>\n",
       "      <td>166.746735</td>\n",
       "    </tr>\n",
       "    <tr>\n",
       "      <th>2022-04-20</th>\n",
       "      <td>167.229996</td>\n",
       "      <td>165.833359</td>\n",
       "    </tr>\n",
       "    <tr>\n",
       "      <th>2022-04-21</th>\n",
       "      <td>166.419998</td>\n",
       "      <td>166.244614</td>\n",
       "    </tr>\n",
       "    <tr>\n",
       "      <th>2022-04-22</th>\n",
       "      <td>161.789993</td>\n",
       "      <td>167.373947</td>\n",
       "    </tr>\n",
       "    <tr>\n",
       "      <th>2022-04-25</th>\n",
       "      <td>162.880005</td>\n",
       "      <td>167.104843</td>\n",
       "    </tr>\n",
       "    <tr>\n",
       "      <th>2022-04-26</th>\n",
       "      <td>156.800003</td>\n",
       "      <td>165.399292</td>\n",
       "    </tr>\n",
       "    <tr>\n",
       "      <th>2022-04-27</th>\n",
       "      <td>156.570007</td>\n",
       "      <td>164.051254</td>\n",
       "    </tr>\n",
       "    <tr>\n",
       "      <th>2022-04-28</th>\n",
       "      <td>163.639999</td>\n",
       "      <td>162.015869</td>\n",
       "    </tr>\n",
       "    <tr>\n",
       "      <th>2022-04-29</th>\n",
       "      <td>157.649994</td>\n",
       "      <td>162.741180</td>\n",
       "    </tr>\n",
       "    <tr>\n",
       "      <th>2022-05-02</th>\n",
       "      <td>157.960007</td>\n",
       "      <td>164.836670</td>\n",
       "    </tr>\n",
       "    <tr>\n",
       "      <th>2022-05-03</th>\n",
       "      <td>159.479996</td>\n",
       "      <td>163.995544</td>\n",
       "    </tr>\n",
       "    <tr>\n",
       "      <th>2022-05-04</th>\n",
       "      <td>166.020004</td>\n",
       "      <td>162.799774</td>\n",
       "    </tr>\n",
       "    <tr>\n",
       "      <th>2022-05-05</th>\n",
       "      <td>156.770004</td>\n",
       "      <td>163.420486</td>\n",
       "    </tr>\n",
       "    <tr>\n",
       "      <th>2022-05-06</th>\n",
       "      <td>157.279999</td>\n",
       "      <td>164.680099</td>\n",
       "    </tr>\n",
       "    <tr>\n",
       "      <th>2022-05-09</th>\n",
       "      <td>152.059998</td>\n",
       "      <td>163.727081</td>\n",
       "    </tr>\n",
       "    <tr>\n",
       "      <th>2022-05-10</th>\n",
       "      <td>154.509995</td>\n",
       "      <td>161.986588</td>\n",
       "    </tr>\n",
       "    <tr>\n",
       "      <th>2022-05-11</th>\n",
       "      <td>146.500000</td>\n",
       "      <td>160.867767</td>\n",
       "    </tr>\n",
       "    <tr>\n",
       "      <th>2022-05-12</th>\n",
       "      <td>142.559998</td>\n",
       "      <td>159.724884</td>\n",
       "    </tr>\n",
       "    <tr>\n",
       "      <th>2022-05-13</th>\n",
       "      <td>147.110001</td>\n",
       "      <td>157.230560</td>\n",
       "    </tr>\n",
       "    <tr>\n",
       "      <th>2022-05-16</th>\n",
       "      <td>145.539993</td>\n",
       "      <td>155.216461</td>\n",
       "    </tr>\n",
       "    <tr>\n",
       "      <th>2022-05-17</th>\n",
       "      <td>149.240005</td>\n",
       "      <td>153.184586</td>\n",
       "    </tr>\n",
       "    <tr>\n",
       "      <th>2022-05-18</th>\n",
       "      <td>140.820007</td>\n",
       "      <td>152.357635</td>\n",
       "    </tr>\n",
       "    <tr>\n",
       "      <th>2022-05-19</th>\n",
       "      <td>137.350006</td>\n",
       "      <td>151.754028</td>\n",
       "    </tr>\n",
       "    <tr>\n",
       "      <th>2022-05-20</th>\n",
       "      <td>137.589996</td>\n",
       "      <td>150.306656</td>\n",
       "    </tr>\n",
       "    <tr>\n",
       "      <th>2022-05-23</th>\n",
       "      <td>143.110001</td>\n",
       "      <td>148.929153</td>\n",
       "    </tr>\n",
       "    <tr>\n",
       "      <th>2022-05-24</th>\n",
       "      <td>140.360001</td>\n",
       "      <td>148.609528</td>\n",
       "    </tr>\n",
       "    <tr>\n",
       "      <th>2022-05-25</th>\n",
       "      <td>140.520004</td>\n",
       "      <td>148.441650</td>\n",
       "    </tr>\n",
       "    <tr>\n",
       "      <th>2022-05-26</th>\n",
       "      <td>143.779999</td>\n",
       "      <td>147.727448</td>\n",
       "    </tr>\n",
       "    <tr>\n",
       "      <th>2022-05-27</th>\n",
       "      <td>149.639999</td>\n",
       "      <td>147.199051</td>\n",
       "    </tr>\n",
       "    <tr>\n",
       "      <th>2022-05-31</th>\n",
       "      <td>148.839996</td>\n",
       "      <td>149.157867</td>\n",
       "    </tr>\n",
       "    <tr>\n",
       "      <th>2022-06-01</th>\n",
       "      <td>148.710007</td>\n",
       "      <td>151.991592</td>\n",
       "    </tr>\n",
       "    <tr>\n",
       "      <th>2022-06-02</th>\n",
       "      <td>151.210007</td>\n",
       "      <td>153.389923</td>\n",
       "    </tr>\n",
       "    <tr>\n",
       "      <th>2022-06-03</th>\n",
       "      <td>145.380005</td>\n",
       "      <td>153.183670</td>\n",
       "    </tr>\n",
       "    <tr>\n",
       "      <th>2022-06-06</th>\n",
       "      <td>146.139999</td>\n",
       "      <td>152.458435</td>\n",
       "    </tr>\n",
       "    <tr>\n",
       "      <th>2022-06-07</th>\n",
       "      <td>148.710007</td>\n",
       "      <td>151.614639</td>\n",
       "    </tr>\n",
       "    <tr>\n",
       "      <th>2022-06-08</th>\n",
       "      <td>147.960007</td>\n",
       "      <td>150.761520</td>\n",
       "    </tr>\n",
       "    <tr>\n",
       "      <th>2022-06-09</th>\n",
       "      <td>142.639999</td>\n",
       "      <td>150.786209</td>\n",
       "    </tr>\n",
       "    <tr>\n",
       "      <th>2022-06-10</th>\n",
       "      <td>137.130005</td>\n",
       "      <td>150.227112</td>\n",
       "    </tr>\n",
       "    <tr>\n",
       "      <th>2022-06-13</th>\n",
       "      <td>131.880005</td>\n",
       "      <td>148.212204</td>\n",
       "    </tr>\n",
       "    <tr>\n",
       "      <th>2022-06-14</th>\n",
       "      <td>132.759995</td>\n",
       "      <td>145.592361</td>\n",
       "    </tr>\n",
       "    <tr>\n",
       "      <th>2022-06-15</th>\n",
       "      <td>135.429993</td>\n",
       "      <td>143.273651</td>\n",
       "    </tr>\n",
       "    <tr>\n",
       "      <th>2022-06-16</th>\n",
       "      <td>130.059998</td>\n",
       "      <td>142.358978</td>\n",
       "    </tr>\n",
       "    <tr>\n",
       "      <th>2022-06-17</th>\n",
       "      <td>131.559998</td>\n",
       "      <td>141.735092</td>\n",
       "    </tr>\n",
       "    <tr>\n",
       "      <th>2022-06-21</th>\n",
       "      <td>135.869995</td>\n",
       "      <td>141.786804</td>\n",
       "    </tr>\n",
       "    <tr>\n",
       "      <th>2022-06-22</th>\n",
       "      <td>135.350006</td>\n",
       "      <td>142.374557</td>\n",
       "    </tr>\n",
       "    <tr>\n",
       "      <th>2022-06-23</th>\n",
       "      <td>138.270004</td>\n",
       "      <td>142.413727</td>\n",
       "    </tr>\n",
       "    <tr>\n",
       "      <th>2022-06-24</th>\n",
       "      <td>141.660004</td>\n",
       "      <td>142.700317</td>\n",
       "    </tr>\n",
       "    <tr>\n",
       "      <th>2022-06-27</th>\n",
       "      <td>141.660004</td>\n",
       "      <td>144.469604</td>\n",
       "    </tr>\n",
       "    <tr>\n",
       "      <th>2022-06-28</th>\n",
       "      <td>137.440002</td>\n",
       "      <td>146.277023</td>\n",
       "    </tr>\n",
       "    <tr>\n",
       "      <th>2022-06-29</th>\n",
       "      <td>139.229996</td>\n",
       "      <td>146.381378</td>\n",
       "    </tr>\n",
       "  </tbody>\n",
       "</table>\n",
       "</div>"
      ],
      "text/plain": [
       "                 Close  Predictions\n",
       "Date                               \n",
       "2022-04-19  167.399994   166.746735\n",
       "2022-04-20  167.229996   165.833359\n",
       "2022-04-21  166.419998   166.244614\n",
       "2022-04-22  161.789993   167.373947\n",
       "2022-04-25  162.880005   167.104843\n",
       "2022-04-26  156.800003   165.399292\n",
       "2022-04-27  156.570007   164.051254\n",
       "2022-04-28  163.639999   162.015869\n",
       "2022-04-29  157.649994   162.741180\n",
       "2022-05-02  157.960007   164.836670\n",
       "2022-05-03  159.479996   163.995544\n",
       "2022-05-04  166.020004   162.799774\n",
       "2022-05-05  156.770004   163.420486\n",
       "2022-05-06  157.279999   164.680099\n",
       "2022-05-09  152.059998   163.727081\n",
       "2022-05-10  154.509995   161.986588\n",
       "2022-05-11  146.500000   160.867767\n",
       "2022-05-12  142.559998   159.724884\n",
       "2022-05-13  147.110001   157.230560\n",
       "2022-05-16  145.539993   155.216461\n",
       "2022-05-17  149.240005   153.184586\n",
       "2022-05-18  140.820007   152.357635\n",
       "2022-05-19  137.350006   151.754028\n",
       "2022-05-20  137.589996   150.306656\n",
       "2022-05-23  143.110001   148.929153\n",
       "2022-05-24  140.360001   148.609528\n",
       "2022-05-25  140.520004   148.441650\n",
       "2022-05-26  143.779999   147.727448\n",
       "2022-05-27  149.639999   147.199051\n",
       "2022-05-31  148.839996   149.157867\n",
       "2022-06-01  148.710007   151.991592\n",
       "2022-06-02  151.210007   153.389923\n",
       "2022-06-03  145.380005   153.183670\n",
       "2022-06-06  146.139999   152.458435\n",
       "2022-06-07  148.710007   151.614639\n",
       "2022-06-08  147.960007   150.761520\n",
       "2022-06-09  142.639999   150.786209\n",
       "2022-06-10  137.130005   150.227112\n",
       "2022-06-13  131.880005   148.212204\n",
       "2022-06-14  132.759995   145.592361\n",
       "2022-06-15  135.429993   143.273651\n",
       "2022-06-16  130.059998   142.358978\n",
       "2022-06-17  131.559998   141.735092\n",
       "2022-06-21  135.869995   141.786804\n",
       "2022-06-22  135.350006   142.374557\n",
       "2022-06-23  138.270004   142.413727\n",
       "2022-06-24  141.660004   142.700317\n",
       "2022-06-27  141.660004   144.469604\n",
       "2022-06-28  137.440002   146.277023\n",
       "2022-06-29  139.229996   146.381378"
      ]
     },
     "execution_count": 29,
     "metadata": {},
     "output_type": "execute_result"
    }
   ],
   "source": [
    "#show the valid acutal price vs predicted\n",
    "valid"
   ]
  },
  {
   "cell_type": "code",
   "execution_count": 30,
   "id": "cad83b2c",
   "metadata": {},
   "outputs": [
    {
     "data": {
      "text/html": [
       "<div>\n",
       "<style scoped>\n",
       "    .dataframe tbody tr th:only-of-type {\n",
       "        vertical-align: middle;\n",
       "    }\n",
       "\n",
       "    .dataframe tbody tr th {\n",
       "        vertical-align: top;\n",
       "    }\n",
       "\n",
       "    .dataframe thead th {\n",
       "        text-align: right;\n",
       "    }\n",
       "</style>\n",
       "<table border=\"1\" class=\"dataframe\">\n",
       "  <thead>\n",
       "    <tr style=\"text-align: right;\">\n",
       "      <th></th>\n",
       "      <th>High</th>\n",
       "      <th>Low</th>\n",
       "      <th>Open</th>\n",
       "      <th>Close</th>\n",
       "      <th>Volume</th>\n",
       "      <th>Adj Close</th>\n",
       "    </tr>\n",
       "    <tr>\n",
       "      <th>Date</th>\n",
       "      <th></th>\n",
       "      <th></th>\n",
       "      <th></th>\n",
       "      <th></th>\n",
       "      <th></th>\n",
       "      <th></th>\n",
       "    </tr>\n",
       "  </thead>\n",
       "  <tbody>\n",
       "    <tr>\n",
       "      <th>2022-06-23</th>\n",
       "      <td>138.589996</td>\n",
       "      <td>135.630005</td>\n",
       "      <td>136.820007</td>\n",
       "      <td>138.270004</td>\n",
       "      <td>72433800.0</td>\n",
       "      <td>138.270004</td>\n",
       "    </tr>\n",
       "    <tr>\n",
       "      <th>2022-06-24</th>\n",
       "      <td>141.910004</td>\n",
       "      <td>139.770004</td>\n",
       "      <td>139.899994</td>\n",
       "      <td>141.660004</td>\n",
       "      <td>89047400.0</td>\n",
       "      <td>141.660004</td>\n",
       "    </tr>\n",
       "    <tr>\n",
       "      <th>2022-06-27</th>\n",
       "      <td>143.490005</td>\n",
       "      <td>140.970001</td>\n",
       "      <td>142.699997</td>\n",
       "      <td>141.660004</td>\n",
       "      <td>70207900.0</td>\n",
       "      <td>141.660004</td>\n",
       "    </tr>\n",
       "    <tr>\n",
       "      <th>2022-06-28</th>\n",
       "      <td>143.419998</td>\n",
       "      <td>137.320007</td>\n",
       "      <td>142.130005</td>\n",
       "      <td>137.440002</td>\n",
       "      <td>67083400.0</td>\n",
       "      <td>137.440002</td>\n",
       "    </tr>\n",
       "    <tr>\n",
       "      <th>2022-06-29</th>\n",
       "      <td>140.669998</td>\n",
       "      <td>136.669998</td>\n",
       "      <td>137.460007</td>\n",
       "      <td>139.229996</td>\n",
       "      <td>66242411.0</td>\n",
       "      <td>139.229996</td>\n",
       "    </tr>\n",
       "  </tbody>\n",
       "</table>\n",
       "</div>"
      ],
      "text/plain": [
       "                  High         Low        Open       Close      Volume  \\\n",
       "Date                                                                     \n",
       "2022-06-23  138.589996  135.630005  136.820007  138.270004  72433800.0   \n",
       "2022-06-24  141.910004  139.770004  139.899994  141.660004  89047400.0   \n",
       "2022-06-27  143.490005  140.970001  142.699997  141.660004  70207900.0   \n",
       "2022-06-28  143.419998  137.320007  142.130005  137.440002  67083400.0   \n",
       "2022-06-29  140.669998  136.669998  137.460007  139.229996  66242411.0   \n",
       "\n",
       "             Adj Close  \n",
       "Date                    \n",
       "2022-06-23  138.270004  \n",
       "2022-06-24  141.660004  \n",
       "2022-06-27  141.660004  \n",
       "2022-06-28  137.440002  \n",
       "2022-06-29  139.229996  "
      ]
     },
     "execution_count": 30,
     "metadata": {},
     "output_type": "execute_result"
    }
   ],
   "source": [
    "df.tail()"
   ]
  },
  {
   "cell_type": "code",
   "execution_count": 31,
   "id": "bfe13d9b",
   "metadata": {},
   "outputs": [
    {
     "data": {
      "text/plain": [
       "(253,)"
      ]
     },
     "execution_count": 31,
     "metadata": {},
     "output_type": "execute_result"
    }
   ],
   "source": [
    "close = df['Close'].values\n",
    "close.shape"
   ]
  },
  {
   "cell_type": "code",
   "execution_count": null,
   "id": "de209f85",
   "metadata": {},
   "outputs": [],
   "source": []
  },
  {
   "cell_type": "code",
   "execution_count": 32,
   "id": "2088e1a7",
   "metadata": {},
   "outputs": [
    {
     "name": "stdout",
     "output_type": "stream",
     "text": [
      "1/1 [==============================] - 0s 50ms/step\n",
      "166.7467498779297\n"
     ]
    }
   ],
   "source": [
    "#predict tomorrows price\n",
    "X_val = X[-60:,:].ravel()\n",
    "X_v = []\n",
    "X_v.append(X_val)\n",
    "X_v = np.array(X_v)\n",
    "X_v = np.reshape(X_v ,(X_v.shape[0],X_v.shape[1],1))\n",
    "tomorrow = model.predict(X_v)\n",
    "tomorrow = float(scaler.inverse_transform(tomorrow))\n",
    "print(tomorrow)\n"
   ]
  },
  {
   "cell_type": "code",
   "execution_count": 33,
   "id": "9db71c72",
   "metadata": {},
   "outputs": [
    {
     "name": "stdout",
     "output_type": "stream",
     "text": [
      "[19.76352438]\n"
     ]
    }
   ],
   "source": [
    "#get percentage of change\n",
    "percent = (tomorrow - close[-1:])/close[-1:]\n",
    "print(percent*100)"
   ]
  },
  {
   "cell_type": "code",
   "execution_count": 34,
   "id": "2ba9a4c1",
   "metadata": {},
   "outputs": [
    {
     "ename": "SyntaxError",
     "evalue": "invalid syntax (Temp/ipykernel_3500/3155488897.py, line 1)",
     "output_type": "error",
     "traceback": [
      "\u001b[1;36m  File \u001b[1;32m\"C:\\Users\\jyama\\AppData\\Local\\Temp/ipykernel_3500/3155488897.py\"\u001b[1;36m, line \u001b[1;32m1\u001b[0m\n\u001b[1;33m    random =\u001b[0m\n\u001b[1;37m             ^\u001b[0m\n\u001b[1;31mSyntaxError\u001b[0m\u001b[1;31m:\u001b[0m invalid syntax\n"
     ]
    }
   ],
   "source": [
    "random = "
   ]
  },
  {
   "cell_type": "code",
   "execution_count": null,
   "id": "5d095b5a",
   "metadata": {},
   "outputs": [],
   "source": []
  }
 ],
 "metadata": {
  "kernelspec": {
   "display_name": "Python 3 (ipykernel)",
   "language": "python",
   "name": "python3"
  },
  "language_info": {
   "codemirror_mode": {
    "name": "ipython",
    "version": 3
   },
   "file_extension": ".py",
   "mimetype": "text/x-python",
   "name": "python",
   "nbconvert_exporter": "python",
   "pygments_lexer": "ipython3",
   "version": "3.9.7"
  }
 },
 "nbformat": 4,
 "nbformat_minor": 5
}
