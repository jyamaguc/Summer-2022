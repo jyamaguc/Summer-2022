{
  "cells": [
    {
      "cell_type": "code",
      "execution_count": null,
      "metadata": {
        "id": "77ed910f"
      },
      "outputs": [],
      "source": [
        "import numpy as np \n",
        "import tensorflow\n",
        "from tensorflow.keras.datasets import mnist\n",
        "import matplotlib.pyplot as plt\n",
        "from tqdm import tqdm\n",
        "import time"
      ],
      "id": "77ed910f"
    },
    {
      "cell_type": "markdown",
      "metadata": {
        "id": "DFQ6mntAJf76"
      },
      "source": [
        "PROJECT 1"
      ],
      "id": "DFQ6mntAJf76"
    },
    {
      "cell_type": "code",
      "execution_count": null,
      "metadata": {
        "id": "38a09a75"
      },
      "outputs": [],
      "source": [
        "(train_set, train_label), (test_set, test_label) = mnist.load_data()\n",
        "train_set, train_label = train_set[:20000], train_label[:20000]"
      ],
      "id": "38a09a75"
    },
    {
      "cell_type": "code",
      "execution_count": null,
      "metadata": {
        "colab": {
          "base_uri": "https://localhost:8080/"
        },
        "id": "928733ac",
        "outputId": "2527b9a0-19c7-4575-dcee-635098b3257b"
      },
      "outputs": [
        {
          "data": {
            "text/plain": [
              "(20000, 28, 28)"
            ]
          },
          "execution_count": 15,
          "metadata": {},
          "output_type": "execute_result"
        }
      ],
      "source": [
        "train_set.shape"
      ],
      "id": "928733ac"
    },
    {
      "cell_type": "code",
      "execution_count": null,
      "metadata": {
        "colab": {
          "base_uri": "https://localhost:8080/"
        },
        "id": "tIWFEcrAqCcN",
        "outputId": "513175cc-597c-466a-bfac-bd57ff5ec1d4"
      },
      "outputs": [
        {
          "data": {
            "text/plain": [
              "array([[[0, 0, 0, ..., 0, 0, 0],\n",
              "        [0, 0, 0, ..., 0, 0, 0],\n",
              "        [0, 0, 0, ..., 0, 0, 0],\n",
              "        ...,\n",
              "        [0, 0, 0, ..., 0, 0, 0],\n",
              "        [0, 0, 0, ..., 0, 0, 0],\n",
              "        [0, 0, 0, ..., 0, 0, 0]],\n",
              "\n",
              "       [[0, 0, 0, ..., 0, 0, 0],\n",
              "        [0, 0, 0, ..., 0, 0, 0],\n",
              "        [0, 0, 0, ..., 0, 0, 0],\n",
              "        ...,\n",
              "        [0, 0, 0, ..., 0, 0, 0],\n",
              "        [0, 0, 0, ..., 0, 0, 0],\n",
              "        [0, 0, 0, ..., 0, 0, 0]],\n",
              "\n",
              "       [[0, 0, 0, ..., 0, 0, 0],\n",
              "        [0, 0, 0, ..., 0, 0, 0],\n",
              "        [0, 0, 0, ..., 0, 0, 0],\n",
              "        ...,\n",
              "        [0, 0, 0, ..., 0, 0, 0],\n",
              "        [0, 0, 0, ..., 0, 0, 0],\n",
              "        [0, 0, 0, ..., 0, 0, 0]],\n",
              "\n",
              "       ...,\n",
              "\n",
              "       [[0, 0, 0, ..., 0, 0, 0],\n",
              "        [0, 0, 0, ..., 0, 0, 0],\n",
              "        [0, 0, 0, ..., 0, 0, 0],\n",
              "        ...,\n",
              "        [0, 0, 0, ..., 0, 0, 0],\n",
              "        [0, 0, 0, ..., 0, 0, 0],\n",
              "        [0, 0, 0, ..., 0, 0, 0]],\n",
              "\n",
              "       [[0, 0, 0, ..., 0, 0, 0],\n",
              "        [0, 0, 0, ..., 0, 0, 0],\n",
              "        [0, 0, 0, ..., 0, 0, 0],\n",
              "        ...,\n",
              "        [0, 0, 0, ..., 0, 0, 0],\n",
              "        [0, 0, 0, ..., 0, 0, 0],\n",
              "        [0, 0, 0, ..., 0, 0, 0]],\n",
              "\n",
              "       [[0, 0, 0, ..., 0, 0, 0],\n",
              "        [0, 0, 0, ..., 0, 0, 0],\n",
              "        [0, 0, 0, ..., 0, 0, 0],\n",
              "        ...,\n",
              "        [0, 0, 0, ..., 0, 0, 0],\n",
              "        [0, 0, 0, ..., 0, 0, 0],\n",
              "        [0, 0, 0, ..., 0, 0, 0]]], dtype=uint8)"
            ]
          },
          "execution_count": 16,
          "metadata": {},
          "output_type": "execute_result"
        }
      ],
      "source": [
        "train_set"
      ],
      "id": "tIWFEcrAqCcN"
    },
    {
      "cell_type": "code",
      "execution_count": null,
      "metadata": {
        "colab": {
          "base_uri": "https://localhost:8080/",
          "height": 282
        },
        "id": "da43a200",
        "outputId": "1498fa3a-a160-4a6f-d940-386be2ab031d"
      },
      "outputs": [
        {
          "data": {
            "text/plain": [
              "<matplotlib.image.AxesImage at 0x7fcf8eec55d0>"
            ]
          },
          "execution_count": 17,
          "metadata": {},
          "output_type": "execute_result"
        },
        {
          "data": {
            "image/png": "[encoded data removed]",
            "text/plain": [
              "<Figure size 432x288 with 1 Axes>"
            ]
          },
          "metadata": {},
          "output_type": "display_data"
        }
      ],
      "source": [
        "plt.imshow(train_set[5][:,:], cmap = plt.cm.binary)"
      ],
      "id": "da43a200"
    },
    {
      "cell_type": "code",
      "execution_count": null,
      "metadata": {
        "id": "3bf2465f"
      },
      "outputs": [],
      "source": [
        "#Reshape the images as a 784d vector\n",
        "train_set = train_set.reshape(20000,-1)/255"
      ],
      "id": "3bf2465f"
    },
    {
      "cell_type": "code",
      "execution_count": null,
      "metadata": {
        "colab": {
          "base_uri": "https://localhost:8080/"
        },
        "id": "1GWj11YwqXCU",
        "outputId": "3d9b3f3e-85e8-445e-9672-b4fed41d0c0b"
      },
      "outputs": [
        {
          "data": {
            "text/plain": [
              "(20000, 784)"
            ]
          },
          "execution_count": 19,
          "metadata": {},
          "output_type": "execute_result"
        }
      ],
      "source": [
        "train_set.shape"
      ],
      "id": "1GWj11YwqXCU"
    },
    {
      "cell_type": "code",
      "execution_count": null,
      "metadata": {
        "id": "9778ae14"
      },
      "outputs": [],
      "source": [
        "#Binarising the data for use in Bernoulli \n",
        "train_set[train_set < 0.5] = 0\n",
        "train_set[train_set > 0.5] = 1 "
      ],
      "id": "9778ae14"
    },
    {
      "cell_type": "markdown",
      "metadata": {
        "id": "cf80ce5b"
      },
      "source": [
        "# Section 1. Implementing a Multi Dimensional Bernoulli random variable"
      ],
      "id": "cf80ce5b"
    },
    {
      "cell_type": "markdown",
      "metadata": {
        "id": "98ec387d"
      },
      "source": [
        "Approach here is to treat each image as a vector of dimension 784. Since we normalised the image, each pixel in the image will be in the range [0,1]"
      ],
      "id": "98ec387d"
    },
    {
      "cell_type": "markdown",
      "metadata": {
        "id": "a325e825"
      },
      "source": [
        "Assume that for a given image vector $X_i$, it has pixels $$X_i = [x_{i1}, x_{i2}, x_{i3}, .... , x_{id}]$$Our bernoulli random variable follows the distribution $$p(x_j | \\theta_j) = \\theta_j^{x_j} (1 - \\theta_j)^{1 - x_j}$$So for each pixel belonging to $X_i$, it follows the above distribution. The main assumption again that we follow is that the pixels in a given image are independent of each other. So by the rule of independence, we have $$\\begin{equation}\n",
        "p(X_i | \\theta) = \\Pi_{j=1}^d p(x_{ij} | \\theta_j)\n",
        "\\end{equation}$$\n",
        "\n"
      ],
      "id": "a325e825"
    },
    {
      "cell_type": "markdown",
      "metadata": {
        "id": "3084bda5"
      },
      "source": [
        "Now that we know the probability distribution for a single image, we compute the total data likelihood which is the product of the above distribution for each image i.e. $$\\begin{equation} p(D| \\theta) = \\Pi_{i = 1}^N p(X_i | \\theta) \\end{equation}$$\n",
        "So we have $$\\begin{equation} p(D | \\theta) = \\Pi_{i = 1}^N \\Pi_{j = 1}^d \\theta^{x_{ij}} (1 - \\theta)^{1 - x_{ij}} \\end{equation} $$\n",
        "\n",
        "Now you can take the log likelihood of the data and differentiate w.r.t $\\theta$ to get the MLE estimate of the bernoulli random variable for the mnist dataset. After differentiation we get $$\\begin{equation} \\theta_j^{MLE} = \\frac{\\Sigma_{i = 1}^N x_{ij}}{N} \\end{equation}$$ which intuitively means that the $j^{th}$ component of $\\theta^{MLE}$ is simply the sum of the $j^{th}$ pixel value across all images. \n",
        "\n",
        "Therefore this says that if we want to say get the Bernoulli Model for the MNIST, we want the $\\theta$ to be the mean of each pixel across all images."
      ],
      "id": "3084bda5"
    },
    {
      "cell_type": "code",
      "execution_count": null,
      "metadata": {
        "id": "bda9b97b"
      },
      "outputs": [],
      "source": [
        "#Complete the code to get the MLE estimate of theta for mnist\n",
        "#theta_MLE = np.sum(train_set, axis=0)/20000\n",
        "theta_MLE = np.mean(train_set, axis=0, keepdims=True)\n",
        "theta = theta_MLE"
      ],
      "id": "bda9b97b"
    },
    {
      "cell_type": "code",
      "execution_count": null,
      "metadata": {
        "colab": {
          "base_uri": "https://localhost:8080/"
        },
        "id": "uHkIM0K3ZxFM",
        "outputId": "07318f5d-8607-4d31-c196-bc9f98643bd6"
      },
      "outputs": [
        {
          "data": {
            "text/plain": [
              "(1, 784)"
            ]
          },
          "execution_count": 22,
          "metadata": {},
          "output_type": "execute_result"
        }
      ],
      "source": [
        "theta_MLE.shape"
      ],
      "id": "uHkIM0K3ZxFM"
    },
    {
      "cell_type": "code",
      "execution_count": null,
      "metadata": {
        "colab": {
          "base_uri": "https://localhost:8080/",
          "height": 282
        },
        "id": "407463d4",
        "outputId": "ab5dd933-dac6-4ab1-baa9-d9e1615aa9ff"
      },
      "outputs": [
        {
          "data": {
            "text/plain": [
              "<matplotlib.image.AxesImage at 0x7fcf8c633d10>"
            ]
          },
          "execution_count": 23,
          "metadata": {},
          "output_type": "execute_result"
        },
        {
          "data": {
            "image/png": "[encoded data removed]",
            "text/plain": [
              "<Figure size 432x288 with 1 Axes>"
            ]
          },
          "metadata": {},
          "output_type": "display_data"
        }
      ],
      "source": [
        "#Visualisation of the MLE estimate\n",
        "theta_MLE = theta_MLE.reshape(28,28)*255\n",
        "plt.imshow(theta_MLE, cmap = plt.cm.binary)"
      ],
      "id": "407463d4"
    },
    {
      "cell_type": "markdown",
      "metadata": {
        "id": "5ccdd168"
      },
      "source": [
        "# Section 2. Implementing KMeans on MNIST to cluster data"
      ],
      "id": "5ccdd168"
    },
    {
      "cell_type": "markdown",
      "metadata": {
        "id": "d6afc60f"
      },
      "source": [
        "So we have studied KMeans as a very intuitive approach to clustering data. Suppose we want to categorize each image into a specific cluster. How do we do that ? "
      ],
      "id": "d6afc60f"
    },
    {
      "cell_type": "code",
      "execution_count": null,
      "metadata": {
        "id": "68eae879"
      },
      "outputs": [],
      "source": [
        "def calcSqDistances(X, Kmus):\n",
        "    return((-2*X.dot(Kmus.T)+np.sum(np.multiply(Kmus,Kmus), axis=1).T).T+np.sum(np.multiply(X,X), axis = 1)).T\n",
        "\n"
      ],
      "id": "68eae879"
    },
    {
      "cell_type": "code",
      "execution_count": null,
      "metadata": {
        "id": "fb016048"
      },
      "outputs": [],
      "source": [
        "def determineRnk(sqDmat):\n",
        "    m = np.argmin(sqDmat, axis = 1)\n",
        "    return np.eye(sqDmat.shape[1])[m]"
      ],
      "id": "fb016048"
    },
    {
      "cell_type": "code",
      "execution_count": null,
      "metadata": {
        "id": "9eaf8800"
      },
      "outputs": [],
      "source": [
        "def recalcMus(X, Rnk):\n",
        "    return(np.divide(X.T.dot(Rnk), np.sum(Rnk, axis=0))).T"
      ],
      "id": "9eaf8800"
    },
    {
      "cell_type": "code",
      "execution_count": null,
      "metadata": {
        "id": "76f0e2ee"
      },
      "outputs": [],
      "source": [
        "def runKMeans(K):\n",
        "    X = train_set\n",
        "    N = np.shape(X)[0]\n",
        "    D = np.shape(X)[1]\n",
        "\n",
        "    #determine and store data set information\n",
        "\n",
        "    #allocate space for the K mu vectors\n",
        "    Kmus = np.zeros((K, D), dtype=np.float64)\n",
        "\n",
        "    #initialize cluster centers by randomly picking points from the data\n",
        "    rand_inds = np.random.permutation(N)\n",
        "    Kmus = X[rand_inds[0:K],:]\n",
        "\n",
        "    #specify the maximum number of iterations to allow\n",
        "    maxiters = 1000\n",
        "\n",
        "    for iter in range(maxiters):\n",
        "        #assign each data vector to closest mu vector as per Bishop (9.2)\n",
        "        #do this by first calculating a squared distance matrix where the n,k entry\n",
        "        #contains the squared distance from the nth data vector to the kth mu vector\n",
        "        \n",
        "        \n",
        "\n",
        "        #sqDmat will be an N-by-K matrix with the n,k entry as specfied above\n",
        "        sqDmat = calcSqDistances(X, Kmus)\n",
        "        \n",
        "\n",
        "        #given the matrix of squared distances, determine the closest cluster\n",
        "        #center for each data vector\n",
        "\n",
        "        #R is the \"responsibility\" matrix\n",
        "        #R will be an N-by-K matrix of binary values whose n,k entry is set as\n",
        "        #per Bishop (9.2)\n",
        "        #Specifically, the n,k entry is 1 if point n is closest to cluster k,\n",
        "        #and is 0 otherwise\n",
        "        Rnk = determineRnk(sqDmat)\n",
        "\n",
        "        KmusOld = Kmus\n",
        "        \n",
        "        time.sleep(1)\n",
        "\n",
        "        #recalculate mu values based on cluster assignments as per Bishop (9.4)\n",
        "        Kmus = recalcMus(X, Rnk)\n",
        "\n",
        "\n",
        "\n",
        "\n",
        "\n",
        "        #check to see if the cluster centers have converged.  If so, break.\n",
        "        if np.sum(np.abs(KmusOld.reshape((-1, 1)) - Kmus.reshape((-1, 1)))) < 1e-6:\n",
        "            print(iter)\n",
        "            break\n",
        "\n",
        "    return Kmus"
      ],
      "id": "76f0e2ee"
    },
    {
      "cell_type": "code",
      "execution_count": null,
      "metadata": {
        "colab": {
          "base_uri": "https://localhost:8080/"
        },
        "id": "4775eca3",
        "outputId": "cfca2538-c5c9-4d0b-ea7b-7960280c2f81"
      },
      "outputs": [
        {
          "name": "stdout",
          "output_type": "stream",
          "text": [
            "35\n",
            "73\n"
          ]
        }
      ],
      "source": [
        "Kmus_10 = runKMeans(10)\n",
        "Kmus_20 = runKMeans(20)"
      ],
      "id": "4775eca3"
    },
    {
      "cell_type": "markdown",
      "metadata": {
        "id": "1249d8c3"
      },
      "source": [
        "# We can see which cluster roughly represents which digit. "
      ],
      "id": "1249d8c3"
    },
    {
      "cell_type": "code",
      "execution_count": null,
      "metadata": {
        "id": "f655d04b"
      },
      "outputs": [],
      "source": [
        "def get_cluster_plot(Kmus): \n",
        "    '''\n",
        "    : get a plot of what different clusters represent\n",
        "    : takes as input the cluster location matrix\n",
        "    '''\n",
        "    fig,axs = plt.subplots( (Kmus.shape[0]//5), 5, figsize = (15,9))\n",
        "    for i in range(len(Kmus)):\n",
        "        cluster = Kmus[i].reshape(28,-1) * 255\n",
        "        axs[i//5][i%5].imshow(cluster, cmap = plt.cm.binary)\n",
        "        axs[i//5][i%5].set_title(f'Cluster {i + 1}')\n"
      ],
      "id": "f655d04b"
    },
    {
      "cell_type": "code",
      "execution_count": null,
      "metadata": {
        "colab": {
          "base_uri": "https://localhost:8080/",
          "height": 1000
        },
        "id": "e76051c2",
        "outputId": "4439a88f-b019-4a30-fe85-61efc15c9ab0"
      },
      "outputs": [
        {
          "data": {
            "image/png": "[encoded data removed]",
            "text/plain": [
              "<Figure size 1080x648 with 10 Axes>"
            ]
          },
          "metadata": {},
          "output_type": "display_data"
        },
        {
          "data": {
            "image/png": "[encoded data removed]",
            "text/plain": [
              "<Figure size 1080x648 with 20 Axes>"
            ]
          },
          "metadata": {},
          "output_type": "display_data"
        }
      ],
      "source": [
        "get_cluster_plot(Kmus_10) #Get cluster representation for K = 10 clusters\n",
        "get_cluster_plot(Kmus_20) #Get cluster representation for K = 20 clusters"
      ],
      "id": "e76051c2"
    },
    {
      "cell_type": "markdown",
      "metadata": {
        "id": "ecRouqfTbByb"
      },
      "source": [
        "# 3. Implementation of a Mixture of Bernoulli Distributions\n",
        "\n",
        "We have seen the performance of a single Bernoulli Distribution on the dataset. We saw it was not very good. On the other hand, using KMeans, we saw that same digits are having different cluster centers based on the writing style. Ex : In the image above, we can see that 0 is associated with clusters 5,7,13 and so on. So we hypothesise that a single digit cannot be entirely sampled from a single distribution and hence a mixture model maybe able to better explain the datas. "
      ],
      "id": "ecRouqfTbByb"
    },
    {
      "cell_type": "markdown",
      "metadata": {
        "id": "7GTvHa9hbDWo"
      },
      "source": [
        "Let us assume that our model is actually a Mixture of Multivariate Bernoulli random variable. For now, let us assume that the model consists of 10 multivariate bernoulli distributions. In this case, given a vector of pixel values, we don't know which cluster it belongs to. So let $z = \\{1,2,3,4,5,...,10\\}$ represent the cluster numbers. Each cluster is a multivariate bernoulli random variable and hence $$\\begin{equation} p(x | z = k) = \\prod_{j = 1}^d \\theta_{kj}^{x_j} (1 - \\theta_{kj})^{1 - x_j}  \\\\ ∀ k ∈ \\{1,2,...,10\\} \\end{equation} $$ where $p(z = k) = \\pi_k$\n",
        "Using this we write $$p(x,z) = p(x | z = k) p(z = k) = \\prod_{k = 1}^{10} (\\pi_k p(x | \\theta_k))^{z_k} $$ where $z_k = 1$ if the data point belongs to cluster k. This is the one hot encoding trick discussed in class. Now given a dataset $D = \\{x_1, x_2, x_3, ...., x_N\\}$, the likelihood can be written as $$p(X, Z) = \\prod_{i = 1}^N p(x_i, z) = \\prod_{i = 1}^N \\prod_{k = 1}^{10} (\\pi_k p(x_i | \\theta_k))^{z_{ik}}$$ This is the total data likelihood that we want to maximize in the presence of unknown/latent variables. Taking the log of this, we have $$log(p(X,Z)) = \\sum_{i = 1}^N \\sum_{k = 1}^{10} z_{ik} log(p(x_i | z = k) = \\sum_{i = 1}^N \\sum_{k = 1}^{10} z_{ik} (log(\\pi_k) + \\sum_{j = 1}^d (x_{ij}log(\\theta_{kj}) + (1 - x_{ij})log(1 - \\theta_{kj})))$$ This is the function that we would like to maximise and get the optimal values of $\\theta$ and $\\pi$. But since the latent variables are unknow, what we do is we take the expectation of this expression wrt observed data $X$ and some initial guess for the parameters that we want to find $\\theta$ and $\\pi$. The only expression above that depends on the latent variable is $z_{ik}$ and since this is a one hot encoding variable, we know that $$E[z_{ik} | X; \\theta^o, \\pi^o] = P(z_{ik} = k | X; \\theta^o, \\pi^o)$$ Applying Bayes Theorem, we have $$P(z_{ik} = k | X; \\theta^o, \\pi^o) = \\frac{P(X | z_{ik} = k;  \\theta^o, \\pi^o) P(z_{ik} = k)}{\\sum_{k = 1}^{10} P(X | z_{ik} = k;  \\theta^o, \\pi^o) P(z_{ik} = k)}$$ from which we have $$ \\gamma_{ik} = \\frac{\\pi_k^o P(x_i | z = k; \\theta_k ^o)}{\\sum_{m = 1}^{10} \\pi_m^o P(x_i | z = m; \\theta_m ^ o)} $$ This is the E step of the EM algorithm. Now we have the expectation of the total data log likelihood as $$Q(\\theta, \\pi; \\theta^o, \\pi^o ) = E[log(p(X,Z))] = \\sum_{i = 1}^N \\sum_{k = 1}^{10} \\gamma_{ik} (log(\\pi_k) + \\sum_{j = 1}^d (x_{ij}log(\\theta_{kj}) + (1 - x_{ij})log(1 - \\theta_{kj})))$$ Now our aim in the M step is to find optimal parameters $\\theta$ and $\\pi$ that maximize the Q function $Q(\\theta, \\pi; \\theta^o, \\pi^o )$ subject to constraints $\\sum_{k = 1}^{10} \\pi_k = 1$ The result of the optimisation process is as follows \n",
        "$$\\pi_k^{o + 1} = \\frac{\\sum_{i = 1}^N \\gamma_{ik}}{N}$$ and $$\\theta_k^{o + 1} = \\frac{\\sum_{i = 1}^N \\gamma_{ik} x_{i}}{\\sum_{i = 1}^N \\gamma_{ik}}$$\n",
        "\n",
        "Thus, we have arrived at the end of M step. Now we repeat the process untill the change in parameters in negligible. So overall, the EM algorithm for Mixture of Bernoulli can be summarised as follows :- \n",
        "1. Start with a guess of parameters $\\pi^o$ and $\\theta^o$ where $\\sum_{k = 1}^{10} \\pi^o = 1$. \n",
        "2. E step : Compute $\\gamma_{ik}$ for $i \\in \\{1,2,...,N\\}$ and $k \\in \\{1,2,3...,10\\}$ \n",
        "$$\\gamma_{ik} = \\frac{\\pi_k^o P(x_i | z = k; \\theta_k ^o)}{\\sum_{m = 1}^{10} \\pi_m^o P(x_i | z = m; \\theta_m ^ o)} $$\n",
        "3. M step: Find the next iteration values of parameters $\\pi^{o + 1}$ and $\\theta^{o + 1}$ $$\\pi_k^{o + 1} = \\frac{\\sum_{i = 1}^N \\gamma_{ik}}{N}$$ $$\\theta_k^{o + 1} = \\frac{\\sum_{i = 1}^N \\gamma_{ik} x_{i}}{\\sum_{i = 1}^N \\gamma_{ik}}$$\n",
        "\n",
        "Using this framework, lets try to build a mixture model for the dataset."
      ],
      "id": "7GTvHa9hbDWo"
    },
    {
      "cell_type": "code",
      "execution_count": null,
      "metadata": {
        "id": "a0d290a4"
      },
      "outputs": [],
      "source": [
        "def train_EM_MOB(x , pi, theta, K = 10): \n",
        "    '''\n",
        "    :input arguments ---> data set, mixture probabilities, initial cluster locations and number of mixtures\n",
        "    : Implement the EM algorithm for Mixture of Bernoulli random variables\n",
        "    : HINT -> We strongly recommend to avoid two nested for loops. Try vectorising your code. \n",
        "    : A simple example of vectorisation is as follows :- \n",
        "    : Assume you have two vectors a and b. Suppose you want to find out the dot product of a and b. \n",
        "    : There are two ways -> 1. sum = 0 ; for i in range(len(a)): sum += a[i]*b[i] \n",
        "    : 2. sum = a.T @ b\n",
        "    : The second method uses the matrix properties to get the same result as first. This is the main idea. \n",
        "    : Also it is a good idea to try out your own code with a small minibatch of data instead of the full data. \n",
        "    '''\n",
        "\n",
        "    #N = x.shape[1]\n",
        "    N = x.shape[0]\n",
        "    pixel = x.shape[1]\n",
        "    #E step: \n",
        "    '''\n",
        "    : x -> 784 pixels\n",
        "    : \n",
        "    :\n",
        "    '''\n",
        "    #x = 20,000 x 784 OR 500 x 784\n",
        "    #10 thetas\n",
        "    #initialize thetas -> 10 * 784\n",
        "    #p(x=z | k) = ...\n",
        "    for iters in range(1000):\n",
        "      #print(len(pi))\n",
        "      #print(theta.shape)\n",
        "      gamma=np.zeros((N, K), dtype=np.float64)\n",
        "\n",
        "      for i in range(K):\n",
        "        matrix1 = theta[i]**x\n",
        "        matrix2 = (1-theta[i])**(1-x)\n",
        "        matrix = matrix1 * matrix2\n",
        "        gamma[:,i] = np.prod(matrix, axis=1) * pi[i]\n",
        "      \n",
        "      #print(np.sum(gamma, keepdims=True, axis=1).shape)\n",
        "      #print(gamma.shape)\n",
        "      sum = np.sum(gamma, keepdims=True, axis=1)\n",
        "      gamma = np.divide(gamma, sum)\n",
        "      #print(gamma)\n",
        "     \n",
        "\n",
        "\n",
        "      #M step:\n",
        "      new_pi = np.sum(gamma, axis=0)/N\n",
        "      #new_pi = np.divide(new_pi, N)\n",
        "\n",
        "      #print(x)\n",
        "      #print(' ')\n",
        "      #print(gamma)\n",
        "      #print(gamma.shape)\n",
        "      num = gamma.T @ x\n",
        "      #num = np.sum(num, keepdims=True, axis=0)\n",
        "      denom = np.sum(gamma, keepdims=True, axis=0).T\n",
        "      new_theta = np.divide(num, denom)\n",
        "\n",
        "      if(np.linalg.norm(new_theta - theta) < 1e-3):\n",
        "        break\n",
        "\n",
        "      pi, theta = new_pi, new_theta\n",
        "\n",
        "      #print('hi')\n",
        "\n",
        "\n",
        "\n",
        "\n",
        "    return new_pi, new_theta\n",
        "\n"
      ],
      "id": "a0d290a4"
    },
    {
      "cell_type": "code",
      "execution_count": null,
      "metadata": {
        "colab": {
          "base_uri": "https://localhost:8080/"
        },
        "id": "56lbWraS6N_5",
        "outputId": "5f6c17c2-ecce-43e8-f08b-2eb3e3456819"
      },
      "outputs": [
        {
          "data": {
            "text/plain": [
              "array([[0.49177708, 0.21130478, 0.17606375, ..., 0.34458428, 0.1739567 ,\n",
              "        0.1417784 ],\n",
              "       [0.44285914, 0.31812049, 0.49781935, ..., 0.43835993, 0.23106016,\n",
              "        0.23072797],\n",
              "       [0.19446232, 0.47830956, 0.33928013, ..., 0.41089579, 0.37464174,\n",
              "        0.21201709],\n",
              "       ...,\n",
              "       [0.1287468 , 0.48301301, 0.39204984, ..., 0.13219028, 0.47336203,\n",
              "        0.39986926],\n",
              "       [0.20147147, 0.49347004, 0.10887715, ..., 0.25944725, 0.19996882,\n",
              "        0.41803881],\n",
              "       [0.2124401 , 0.37789074, 0.25859342, ..., 0.16314007, 0.37663241,\n",
              "        0.26721626]])"
            ]
          },
          "execution_count": 32,
          "metadata": {},
          "output_type": "execute_result"
        }
      ],
      "source": [
        "theta = np.random.uniform(size=(10,784), low=0.1, high=0.5)\n",
        "theta"
      ],
      "id": "56lbWraS6N_5"
    },
    {
      "cell_type": "code",
      "execution_count": null,
      "metadata": {
        "colab": {
          "background_save": true,
          "base_uri": "https://localhost:8080/"
        },
        "id": "814a4f71",
        "outputId": "2388dc2d-1e73-4466-c9a5-4784cc1fc5be"
      },
      "outputs": [
        {
          "name": "stderr",
          "output_type": "stream",
          "text": [
            "/usr/local/lib/python3.7/dist-packages/ipykernel_launcher.py:41: RuntimeWarning: invalid value encountered in true_divide\n"
          ]
        }
      ],
      "source": [
        "train = train_set\n",
        "#Initialise the P(z = k) = $$\\pi_k$$\n",
        "pi = np.asarray([0.1]*10)\n",
        "#Initialise theta\n",
        "#theta = theta_MLE\n",
        "#First try out with a small dataset\n",
        "theta = np.random.rand(10,784)\n",
        "pi_new, theta_new = train_EM_MOB(train[:500] , pi , theta)\n",
        "#After ensuring it works as expected, run on full dataset\n",
        "pi_new, theta_new = train_EM_MOB(train , pi, theta)"
      ],
      "id": "814a4f71"
    },
    {
      "cell_type": "code",
      "execution_count": null,
      "metadata": {
        "colab": {
          "background_save": true
        },
        "id": "anYIhOwBhj0P",
        "outputId": "a9dd4202-9a4b-4c7f-929d-7cc7a0e12f1d"
      },
      "outputs": [
        {
          "data": {
            "text/plain": [
              "(10, 784)"
            ]
          },
          "execution_count": null,
          "metadata": {},
          "output_type": "execute_result"
        }
      ],
      "source": [
        "Kmus_10.shape"
      ],
      "id": "anYIhOwBhj0P"
    },
    {
      "cell_type": "code",
      "execution_count": null,
      "metadata": {
        "colab": {
          "background_save": true
        },
        "id": "5dd86c25",
        "outputId": "62b93c61-75d7-4b74-9573-a875ddb4f1df"
      },
      "outputs": [
        {
          "name": "stderr",
          "output_type": "stream",
          "text": [
            "/usr/local/lib/python3.7/dist-packages/matplotlib/image.py:452: UserWarning: Warning: converting a masked element to nan.\n",
            "  dv = np.float64(self.norm.vmax) - np.float64(self.norm.vmin)\n",
            "/usr/local/lib/python3.7/dist-packages/matplotlib/image.py:459: UserWarning: Warning: converting a masked element to nan.\n",
            "  a_min = np.float64(newmin)\n",
            "/usr/local/lib/python3.7/dist-packages/matplotlib/image.py:464: UserWarning: Warning: converting a masked element to nan.\n",
            "  a_max = np.float64(newmax)\n",
            "<string>:6: UserWarning: Warning: converting a masked element to nan.\n",
            "/usr/local/lib/python3.7/dist-packages/matplotlib/colors.py:993: UserWarning: Warning: converting a masked element to nan.\n",
            "  data = np.asarray(value)\n"
          ]
        },
        {
          "data": {
            "image/png": "[encoded data removed]",
            "text/plain": [
              "<Figure size 1080x648 with 10 Axes>"
            ]
          },
          "metadata": {},
          "output_type": "display_data"
        }
      ],
      "source": [
        "#Visualise the 10 clusters that you obtained\n",
        "get_cluster_plot(theta_new) #Get the cluster representation for a mixture model with 10 mixtures"
      ],
      "id": "5dd86c25"
    },
    {
      "cell_type": "code",
      "execution_count": null,
      "metadata": {
        "colab": {
          "background_save": true
        },
        "id": "29fc5191"
      },
      "outputs": [],
      "source": [
        ""
      ],
      "id": "29fc5191"
    }
  ],
  "metadata": {
    "colab": {
      "collapsed_sections": [],
      "name": "COGS118B WI22 Project1-Student.ipynb",
      "provenance": []
    },
    "kernelspec": {
      "display_name": "Python 3",
      "language": "python",
      "name": "python3"
    },
    "language_info": {
      "codemirror_mode": {
        "name": "ipython",
        "version": 3
      },
      "file_extension": ".py",
      "mimetype": "text/x-python",
      "name": "python",
      "nbconvert_exporter": "python",
      "pygments_lexer": "ipython3",
      "version": "3.7.10"
    }
  },
  "nbformat": 4,
  "nbformat_minor": 5
}